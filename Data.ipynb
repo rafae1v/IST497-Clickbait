{
 "cells": [
  {
   "cell_type": "code",
   "execution_count": 50,
   "metadata": {},
   "outputs": [],
   "source": [
    "#EDA\n",
    "#jupyter notebook --NotebookApp.iopub_data_rate_limit=10000000\n",
    "#to download json_lines: python -m pip install json-lines\n",
    "import json_lines, json, copy"
   ]
  },
  {
   "cell_type": "code",
   "execution_count": 51,
   "metadata": {},
   "outputs": [
    {
     "name": "stdout",
     "output_type": "stream",
     "text": [
      "has\n",
      "has, too\n"
     ]
    }
   ],
   "source": [
    "#Remove '/project1' for the path\n",
    "\n",
    "from pathlib import Path\n",
    "\n",
    "raw_instance_filePath = Path(\"../clickbait_dataset/instances_train.jsonl\")\n",
    "if raw_instance_filePath.is_file():\n",
    "    print(\"has\")\n",
    "raw_instance_dir = Path(\"../clickbait_dataset\")\n",
    "\n",
    "#If you want to check the diretory by using .is_dir(), then you need to make another variable.\n",
    "if raw_instance_dir.is_dir():\n",
    "    print(\"has, too\")\n",
    "else:\n",
    "    print(\"none\")"
   ]
  },
  {
   "cell_type": "code",
   "execution_count": 52,
   "metadata": {},
   "outputs": [
    {
     "name": "stdout",
     "output_type": "stream",
     "text": [
      "has\n",
      "has, too\n"
     ]
    }
   ],
   "source": [
    "raw_truth_filePath = Path(\"../clickbait_dataset/truth_train.jsonl\")\n",
    "if raw_truth_filePath.is_file():\n",
    "    print(\"has\")\n",
    "raw_truth_dir = Path(\"../clickbait_dataset\")\n",
    "if raw_truth_dir.is_dir():\n",
    "    print(\"has, too\")\n",
    "else:\n",
    "    print(\"none\")"
   ]
  },
  {
   "cell_type": "code",
   "execution_count": 53,
   "metadata": {},
   "outputs": [
    {
     "data": {
      "text/plain": [
       "{'targetCaptions': ['Stocks Fall as Investors Watch Central Banks',\n",
       "  'Do Traders See Data Before Release? Markets Say Yes',\n",
       "  'Be Careful: Stock Volatility is Hiding, Not Hibernating',\n",
       "  'Singapore Bans Ex-Goldman Banker Linked to 1MDB From Working in Financial Sector',\n",
       "  'Demanding and Direct: HSBC’s New Chairman Mark Tucker',\n",
       "  'Saudi King’s Asia Expedition Enters Crucial Phase',\n",
       "  'Puerto Rico Board Approves Fiscal Road Map',\n",
       "  'CFPB, Justice Department Poised to Square Off in Court',\n",
       "  'Raphael Bostic to Lead Atlanta Fed',\n",
       "  'Blackstone Sells Part of Stake in NCR',\n",
       "  'Dartmouth College Appoints Alice Ruth as New Endowment Chief',\n",
       "  'Hedge-Fund Loses Big on Oil Bets',\n",
       "  'Buyout Firm Buys $800 Million of Assets From Itself',\n",
       "  'J.P. Morgan Moves Ahead With Plan to Drop Commissions in IRAs',\n",
       "  'Fed Signal Could Revive a Problem for China’s Central Bank',\n",
       "  'Why Apple and Pfizer Are Piling Into Taiwan’s Bond Market',\n",
       "  '[https://m.wsj.net/video/20170312/031017vinny/031017vinny_167x94.jpg]',\n",
       "  '[https://m.wsj.net/video/20170303/0307lotd_boca/0307lotd_boca_167x94.jpg]',\n",
       "  '[https://m.wsj.net/video/20170313/031317dutchelex/031317dutchelex_167x94.jpg]',\n",
       "  '[https://m.wsj.net/video/20170313/031317lina/031317lina_167x94.jpg]',\n",
       "  '[https://m.wsj.net/video/20170313/031317scotref/031317scotref_167x94.jpg]',\n",
       "  'You’re Not Busy, You’re Just Rude',\n",
       "  'Credit Reports to Exclude Certain Negative Data, Boosting FICO Scores',\n",
       "  'CIA Contractors Questioned About WikiLeaks Dump',\n",
       "  'Your Pension Check May Soon Be Coming From an Insurance Company',\n",
       "  'Intel Makes Big Bet on Self-Driving Tech in Mobileye Deal',\n",
       "  '[https://m.wsj.net/video/20170312/031017vinny/031017vinny_167x94.jpg]',\n",
       "  '[https://m.wsj.net/video/20170303/0307lotd_boca/0307lotd_boca_167x94.jpg]',\n",
       "  '[https://m.wsj.net/video/20170313/031317dutchelex/031317dutchelex_167x94.jpg]',\n",
       "  '[https://m.wsj.net/video/20170313/031317lina/031317lina_167x94.jpg]',\n",
       "  '[https://m.wsj.net/video/20170313/031317scotref/031317scotref_167x94.jpg]',\n",
       "  'You’re Not Busy, You’re Just Rude',\n",
       "  'Credit Reports to Exclude Certain Negative Data, Boosting FICO Scores',\n",
       "  'CIA Contractors Questioned About WikiLeaks Dump',\n",
       "  'Your Pension Check May Soon Be Coming From an Insurance Company',\n",
       "  'Intel Makes Big Bet on Self-Driving Tech in Mobileye Deal'],\n",
       " 'targetDescription': 'Global investors have yanked $9.3 billion from stocks in developing countries in the week to Wednesday, the most since the depths of the 2008 global financial crisis.',\n",
       " 'postText': ['RT @kenbrown12: Emerging market investors are doing their best Monty Pythons--\"Run away, run away\"'],\n",
       " 'postTimestamp': 'Fri Jun 12 09:52:05 +0000 2015',\n",
       " 'postMedia': ['media/609297109095972864.jpg'],\n",
       " 'targetParagraphs': ['Emerging markets are out of favor.',\n",
       "  'Global investors have yanked $9.3 billion from stocks in developing countries in the week to Wednesday, the most since the depths of the global financial crisis in 2008. Asia has been particularly vulnerable with $7.9 billion pulled out of the region’s equity markets, the most in almost 15 years, according to data provider EPFR Global.',\n",
       "  'Financial markets in emerging markets have been grinding...'],\n",
       " 'targetTitle': 'Emerging Markets Suffer Largest Outflow in Seven Years',\n",
       " 'id': '1',\n",
       " 'targetKeywords': 'emerging market,emerging markets,em flows,em inflow,em outflow,equity markets,money,forex markets,commodity,financial market news'}"
      ]
     },
     "execution_count": 53,
     "metadata": {},
     "output_type": "execute_result"
    }
   ],
   "source": [
    "#open with json - raw_instance_train\n",
    "import json\n",
    "raw_instance_train=[]\n",
    "with open('../clickbait_dataset/instances_train.jsonl','rb') as raw_instance_file: #opening file with binary(rb) mode.\n",
    "    for x in raw_instance_file:\n",
    "        raw_instance_train.append(json.loads(x))\n",
    "raw_instance_train[1]\n"
   ]
  },
  {
   "cell_type": "code",
   "execution_count": 54,
   "metadata": {},
   "outputs": [
    {
     "data": {
      "text/plain": [
       "{'truthMedian': 0.33333334,\n",
       " 'truthMean': 0.2,\n",
       " 'truthMode': 0.33333334,\n",
       " 'truthClass': 'no-clickbait',\n",
       " 'truthJudgments': [0.33333334, 0.0, 0.33333334, 0.33333334, 0.0],\n",
       " 'id': '7'}"
      ]
     },
     "execution_count": 54,
     "metadata": {},
     "output_type": "execute_result"
    }
   ],
   "source": [
    "#open with json - raw_truth_train\n",
    "\n",
    "raw_truth_train=[]\n",
    "with open('../clickbait_dataset/truth_train.jsonl','rb') as raw_truth_file: #opening file with binary(rb) mode.\n",
    "    for x in raw_truth_file:\n",
    "        raw_truth_train.append(json.loads(x))\n",
    "raw_truth_train[7]\n"
   ]
  },
  {
   "cell_type": "code",
   "execution_count": 55,
   "metadata": {},
   "outputs": [
    {
     "name": "stdout",
     "output_type": "stream",
     "text": [
      "<class 'list'>\n",
      "<class 'dict'>\n",
      "17581\n",
      "Check Dict. Indexes for instance_train: dict_keys(['targetCaptions', 'targetDescription', 'postText', 'postTimestamp', 'postMedia', 'targetParagraphs', 'targetTitle', 'id', 'targetKeywords'])\n",
      "Check Dict. Indexes for truth_train: dict_keys(['truthMedian', 'truthMean', 'truthMode', 'truthClass', 'truthJudgments', 'id'])\n"
     ]
    }
   ],
   "source": [
    "#check the properties\n",
    "print(type(raw_instance_train))    #type for whole data: list\n",
    "print(type(raw_instance_train[0]))  #type for each element of the liast: dict\n",
    "print(len(raw_instance_train))\n",
    "print('Check Dict. Indexes for instance_train: ' + str(raw_instance_train[0].keys()))\n",
    "print('Check Dict. Indexes for truth_train: ' + str(raw_truth_train[0].keys()))"
   ]
  },
  {
   "cell_type": "code",
   "execution_count": 56,
   "metadata": {},
   "outputs": [
    {
     "ename": "FileNotFoundError",
     "evalue": "[Errno 2] No such file or directory: '../project1/dataset/instances_train.jsonl'",
     "output_type": "error",
     "traceback": [
      "\u001b[0;31m---------------------------------------------------------------------------\u001b[0m",
      "\u001b[0;31mFileNotFoundError\u001b[0m                         Traceback (most recent call last)",
      "\u001b[0;32m<ipython-input-56-e5ed252f80ba>\u001b[0m in \u001b[0;36m<module>\u001b[0;34m()\u001b[0m\n\u001b[0;32m----> 1\u001b[0;31m \u001b[0mraw_instance_train\u001b[0m \u001b[0;34m=\u001b[0m \u001b[0;34m[\u001b[0m\u001b[0mjson\u001b[0m\u001b[0;34m.\u001b[0m\u001b[0mloads\u001b[0m\u001b[0;34m(\u001b[0m\u001b[0mline\u001b[0m\u001b[0;34m)\u001b[0m \u001b[0;32mfor\u001b[0m \u001b[0mline\u001b[0m \u001b[0;32min\u001b[0m \u001b[0mopen\u001b[0m\u001b[0;34m(\u001b[0m\u001b[0;34m\"../project1/dataset/instances_train.jsonl\"\u001b[0m\u001b[0;34m)\u001b[0m\u001b[0;34m]\u001b[0m\u001b[0;34m\u001b[0m\u001b[0m\n\u001b[0m\u001b[1;32m      2\u001b[0m \u001b[0mraw_truth_train\u001b[0m \u001b[0;34m=\u001b[0m \u001b[0;34m[\u001b[0m\u001b[0mjson\u001b[0m\u001b[0;34m.\u001b[0m\u001b[0mloads\u001b[0m\u001b[0;34m(\u001b[0m\u001b[0mline\u001b[0m\u001b[0;34m)\u001b[0m \u001b[0;32mfor\u001b[0m \u001b[0mline\u001b[0m \u001b[0;32min\u001b[0m \u001b[0mopen\u001b[0m\u001b[0;34m(\u001b[0m\u001b[0;34m\"../project1/dataset/truth_train.jsonl\"\u001b[0m\u001b[0;34m)\u001b[0m\u001b[0;34m]\u001b[0m\u001b[0;34m\u001b[0m\u001b[0m\n",
      "\u001b[0;31mFileNotFoundError\u001b[0m: [Errno 2] No such file or directory: '../project1/dataset/instances_train.jsonl'"
     ]
    }
   ],
   "source": [
    "raw_instance_train = [json.loads(line) for line in open(\"../project1/dataset/instances_train.jsonl\")]\n",
    "raw_truth_train = [json.loads(line) for line in open(\"../project1/dataset/truth_train.jsonl\")]"
   ]
  },
  {
   "cell_type": "code",
   "execution_count": 57,
   "metadata": {},
   "outputs": [],
   "source": [
    "#To Cleaning data. Later...\n",
    "\n",
    "# import re\n",
    "\n",
    "# def cleanhtml(raw_html):\n",
    "#   cleanr = re.compile('<.*?>')\n",
    "#   cleantext = re.sub(cleanr, '', raw_html)\n",
    "#   return cleantext"
   ]
  },
  {
   "cell_type": "code",
   "execution_count": 58,
   "metadata": {},
   "outputs": [],
   "source": [
    "# cleanhtml(str)"
   ]
  },
  {
   "cell_type": "code",
   "execution_count": 60,
   "metadata": {},
   "outputs": [],
   "source": [
    "# #separate into two list (clickbait/ non_clickbait)\n",
    "clickbait_train = []\n",
    "non_clickbait_train = []\n",
    "for x in range(0, len(raw_instance_train)):\n",
    "    if raw_truth_train[x]['truthClass'] == 'clickbait':\n",
    "        temp_dict = copy.deepcopy(raw_instance_train[x])\n",
    "        temp_dict.update(raw_truth_train[x])\n",
    "        clickbait_train.append(temp_dict)\n",
    "    else:\n",
    "        non_clickbait_train.append(raw_instance_train[x])"
   ]
  },
  {
   "cell_type": "code",
   "execution_count": 15,
   "metadata": {},
   "outputs": [
    {
     "data": {
      "text/plain": [
       "{'targetCaptions': ['US to vote for Ali in FIFA election and not Blatter',\n",
       "  'US to vote for Ali in FIFA election and not Blatter',\n",
       "  \"FILE - This Oct. 10, 2014, file photo shows Sunil Gulati, president of the United States Soccer Federation, during a press conference in Bristol, Conn. The United States says it will vote for Jordan's Prince Ali bin Al-Hussein for FIFA president Friday, May 29, 2015 and not for incumbent Sepp Blatter. (AP Photo/Elise Amendola, File)\"],\n",
       " 'targetDescription': \"A U.S. Senator's scathing letter questioned U.S. Soccer's inadequate handling of Solo's domestic violence charges. It's time for Sunil Gulati to respond.\",\n",
       " 'postText': ['U.S. Soccer should start answering tough questions about Hope Solo, @eric_adelson writes.'],\n",
       " 'postTimestamp': 'Fri Jun 12 23:36:05 +0000 2015',\n",
       " 'postMedia': [],\n",
       " 'targetParagraphs': [\"WINNIPEG, Manitoba – The bubble U.S. Soccer is putting around Hope Solo isn't working to calm anyone's concerns about the star goalkeeper.\",\n",
       "  \"The latest lament comes from no less than a U.S. Senator, who into Solo's domestic violence incident of last year and offer a detailed explanation of why Solo is on the field. She is expected to be the starting goalkeeper when the USA plays Sweden in its second group game at the Women's World Cup on Friday.\",\n",
       "  '[FC Yahoo: ]',\n",
       "  'U.S. Senator Richard Blumenthal of Connecticut penned a lengthy complaint about the near-silence the organization has given on Solo, especially in the wake of ESPN\\'s \"Outside the Lines\" report on Sunday. Blumenthal wrote that if the report is accurate \"U.S. Soccer\\'s approach to domestic violence and family violence is at best superficial and at worst dangerously neglectful and self-serving.\"',\n",
       "  'This situation is well beyond Solo now. U.S. Soccer has made this a referendum about its own ability to represent the values of the nation. \"As boys and girls tune into Friday\\'s game, watching the women on TV as role models,\" Blumenthal wrote, \"what is the message of starting Hope Solo at goal?\"',\n",
       "  \"[Women's World Cup: | | | ]\",\n",
       "  \"U.S. Soccer is not only avoiding difficult questions, it is also avoiding an account of all its actions. Even NFL commissioner Roger Goodell has, to some extent, owned up to his failures on the Ray Rice case, yet Gulati has not even decried Solo's poor decisions.\",\n",
       "  \"Last September, three months after Solo's domestic violence charges (which were later ), Gulati released this vague statement on the matter:\",\n",
       "  '\"U.S. Soccer takes the issue of domestic violence very seriously. From the beginning, we considered the information available and have taken a deliberate and thoughtful approach regarding Hope Solo\\'s status with the national team. Based on that information, U.S. Soccer stands by our decision to allow her to participate with the team as the legal process unfolds. If new information becomes available we will carefully consider it.\"',\n",
       "  \"A lot of this would be solved if Gulati and Solo held a press conference and claimed some accountability. It's clear from Monday's dominant performance in a 3-1 tournament-opening win over Australia that Solo is not distracted by the national discussion of her past, so a short appearance – even without reporters' questions – probably won't ruin the U.S.'s chances for a trophy. And claiming that Solo has a match to focus on isn't credible as it's basically an admission that a single game is more important than a discussion of domestic violence.\",\n",
       "  \"For Gulati, there is little excuse. The silence, the lack of punishment and then the decision to allow head coach Jill Ellis to discuss (or not discuss) the situation here, combines to make the top official of American soccer look like he doesn't prioritize this issue.\",\n",
       "  '\"In the wake of this violent incident, U.S. Soccer offered no comment publicly for three months,\" Blumenthal wrote. \"It finally issued a statement that was purportedly the result of a \\'deliberate and thoughtful approach\\' to consider the incident and determine Hope Solo\\'s status with the team, but it neglected to include an effort to contact the alleged victims.\"',\n",
       "  'The more U.S. Soccer tries to shift focus to the field, the less it accomplishes that. This is the Super Bowl of women\\'s soccer, and decrying this as \"old news\" doesn\\'t work because the entire country is watching now. Countless Americans are debating whether to root for Solo or not, and her protectors are effectively convincing a lot of people to remain skeptical of her.',\n",
       "  \"It doesn't have to be this way. A better explanation of what Gulati has done on this topic – and a better explanation of what Solo has done to work on her problems – would go a long way toward moving on, especially the way U.S. Soccer clearly wants. Instead, there is opacity where there should be transparency.\",\n",
       "  'The NFL has come under a lot of scrutiny for its efforts to \"protect the shield,\" but U.S. Soccer\\'s shield stands for a lot more than just a sport. That shield shouldn\\'t only be used to defend a player.',\n",
       "  '735'],\n",
       " 'targetTitle': 'U.S. Soccer should start answering tough questions about Hope Solo',\n",
       " 'id': '2',\n",
       " 'targetKeywords': '',\n",
       " 'truthMedian': 0.6666667,\n",
       " 'truthMean': 0.53333336,\n",
       " 'truthMode': 0.6666667,\n",
       " 'truthClass': 'clickbait',\n",
       " 'truthJudgments': [0.33333334, 0.6666667, 1.0, 0.0, 0.6666667]}"
      ]
     },
     "execution_count": 15,
     "metadata": {},
     "output_type": "execute_result"
    }
   ],
   "source": [
    "#clickbait_train\n",
    "clickbait_train[0]"
   ]
  },
  {
   "cell_type": "code",
   "execution_count": 16,
   "metadata": {
    "scrolled": true
   },
   "outputs": [
    {
     "data": {
      "text/plain": [
       "{'targetCaptions': [\"'App thinning' will be supported on Apple's iOS 9 and later models. It ensures apps use the lowest amount of storage space on a device by only downloading the parts it needs to run on individual handsets. It 'slices' the app into 'app variants' that only need to access the specific files on that specific device\",\n",
       "  \"'App thinning' will be supported on Apple's iOS 9 and later models. It ensures apps use the lowest amount of storage space on a device by only downloading the parts it needs to run on individual handsets. It 'slices' the app into 'app variants' that only need to access the specific files on that specific device\",\n",
       "  \"The guidelines also discuss so-called 'on-demand resources.' This allows developers to omit features from an app until they are opened or requested by the user. The App Store hosts these resources on Apple servers and manages the downloads for the developer and user.\\xa0This will also increase how quickly an app downloads\",\n",
       "  \"The guidelines also discuss so-called 'on-demand resources.' This allows developers to omit features from an app until they are opened or requested by the user. The App Store hosts these resources on Apple servers and manages the downloads for the developer and user.\\xa0This will also increase how quickly an app downloads\",\n",
       "  \"Apple said it will then 'purge on-demand resources when they are no longer needed and disk space is low' (Apple's storage menu is pictured)\",\n",
       "  \"Apple said it will then 'purge on-demand resources when they are no longer needed and disk space is low' (Apple's storage menu is pictured)\",\n",
       "  'A 64GB Apple iPhone 6 is typically left with 56GB of free space after pre-installed apps, system files and software is included. A drop of 8GB, leaving 87.5 % of storage free.\\xa0Previous handsets, including the Samsung Galaxy S4 and Apple iPhone 5C typically ranged from between 54% and 79% of free space (illustrated)',\n",
       "  'A 64GB Apple iPhone 6 is typically left with 56GB of free space after pre-installed apps, system files and software is included. A drop of 8GB, leaving 87.5 % of storage free.\\xa0Previous handsets, including the Samsung Galaxy S4 and Apple iPhone 5C typically ranged from between 54% and 79% of free space (illustrated)',\n",
       "  \"Earlier this year, a pair of disgruntled Apple users filed a lawsuit in Miami accusing the tech giant of 'concealing, omitting and failing to disclose' that on 16GB versions of iPhones, more than 20% of the advertised space isn't available. This graph reveals the capacity available and unavailable to the user\",\n",
       "  \"Earlier this year, a pair of disgruntled Apple users filed a lawsuit in Miami accusing the tech giant of 'concealing, omitting and failing to disclose' that on 16GB versions of iPhones, more than 20% of the advertised space isn't available. This graph reveals the capacity available and unavailable to the user\"],\n",
       " 'targetDescription': \"'App thinning' will be supported on Apple's iOS 9 and later models. It ensures apps use the lowest amount of storage space by 'slicing' it to work on individual handsets (illustrated).\",\n",
       " 'postText': [\"Apple's iOS 9 'App thinning' feature will give your phone's storage a boost\"],\n",
       " 'postTimestamp': 'Tue Jun 09 16:31:10 +0000 2015',\n",
       " 'postMedia': [],\n",
       " 'targetParagraphs': [\"Paying for a 64GB phone only to discover that this is significantly reduced by system files and bloatware is the bane of many smartphone owner's lives.\\xa0\",\n",
       "  'And the issue became so serious earlier this year that some Apple users even sued the company over it.\\xa0',\n",
       "  \"But with the launch of iOS 9, Apple is hoping to address storage concerns by introducing a feature known as 'app thinning.'\",\n",
       "  'It has been explained on the watchOS Developer Library site and is aimed at developers looking to optimise their apps to work on iOS and the watchOS.\\xa0',\n",
       "  'It ensures apps use the lowest amount of storage space on a device by only downloading the parts it needs run on the particular handset it is being installed onto.',\n",
       "  \"It 'slices' the app into 'app variants' that only need to access the specific files on that specific handset.\\xa0\",\n",
       "  \"XperiaBlog recently spotted that the 8GB version of Sony's mid-range M4 Aqua has just 1.26GB of space for users.\\xa0\",\n",
       "  'This means that firmware, pre-installed apps and Android software take up a staggering 84.25 per cent.\\xa0',\n",
       "  \"Sony does let users increase storage space using a microSD card, but as XperiaBlog explained: 'Sony should never have launched an 8GB version of the Xperia M4 Aqua.\\xa0\",\n",
       "  \"'If you are thinking about purchasing this model, be aware of what you are buying into.'\",\n",
       "  \"Previously, apps would need to be able to run on all handsets and account for the varying files, chipsets and power so contained sections that weren't always relevant to the phone it was being installed on.\",\n",
       "  'This made them larger than they needed to be.\\xa0',\n",
       "  'Under the new plans, when a phone is downloaded from the App Store, the app recognises which phone it is being installed onto and only pulls in the files and code it needs to work on that particular device.\\xa0',\n",
       "  'For iOS, sliced apps are supported on the latest iTunes and on devices running iOS 9.0 and later.\\xa0',\n",
       "  \"In all other cases, the App Store will deliver the previous 'universal apps' to customers.\",\n",
       "  \"The guidelines also discuss so-called 'on-demand resources.'\\xa0This allows developers to omit features from an app until they are opened or requested by the user.\\xa0\",\n",
       "  'The App Store hosts these resources on Apple servers and manages the downloads for the developer and user.\\xa0',\n",
       "  'This will also increase how quickly an app downloads.\\xa0',\n",
       "  'An example given by Apple is a game app that may divide resources into game levels and request the next level of resources only when the app anticipates the user has completed the previous level.',\n",
       "  'Similarly, the app can request In-App Purchase resources only when the user buys a corresponding in-app purchase.',\n",
       "  \"Apple explained the operating system will then 'purge on-demand resources when they are no longer needed and disk space is low', removing them until they are needed again.\",\n",
       "  'And the whole iOS 9 software has been designed to be thinner during updates, namely from 4.6GB to 1.3GB, to free up space.\\xa0',\n",
       "  'This app thinning applies to third-party apps created by developers.\\xa0',\n",
       "  \"Apple doesn't say if it will apply to the apps Apple pre-installed on devices, such as Stocks, Weather and Safari - but it is likely that it will in order to make iOS 9 smaller.\\xa0\",\n",
       "  'As an example of storage space on Apple devices, a 64GB Apple iPhone 6 is typically left with 56GB of free space after pre-installed apps, system files and software is included.\\xa0',\n",
       "  'A drop of 8GB, leaving 87.5 per cent of storage free.\\xa0',\n",
       "  \"By comparison, Samsung's 64GB S6 Edge has 53.42GB of available space, and of this 9GB is listed as system memory.\\xa0\",\n",
       "  'Although this is a total drop of almost 11GB, it equates to 83 per cent of space free.\\xa0',\n",
       "  'By comparison, on a 32GB S6 MailOnline found 23.86GB of space was available, with 6.62GB attributed to system memory.',\n",
       "  'This is a drop of just over 8GB and leaves 75 per cent free.',\n",
       "  'Samsung said it, too, had addressed complaints about bloatware and storage space with its S6 range. \\xa0',\n",
       "  'Previous handsets, including the Samsung Galaxy S4 and Apple iPhone 5C typically ranged from between 54 per cent and 79 per cent of free space.',\n",
       "  '\\xa0',\n",
       "  \"Businessman 'killed his best friend when he crashed jet-powered dinghy into his £1million yacht while showing off' as his wife filmed them\"],\n",
       " 'targetTitle': \"Apple gives back gigabytes: iOS 9 'app thinning' feature will finally give your phone's storage a boost\",\n",
       " 'id': '0',\n",
       " 'targetKeywords': 'Apple,gives,gigabytes,iOS,9,app,thinning,feature,finally,phone,s,storage,boost'}"
      ]
     },
     "execution_count": 16,
     "metadata": {},
     "output_type": "execute_result"
    }
   ],
   "source": [
    "#non_clickbait_train\n",
    "non_clickbait_train[0]"
   ]
  },
  {
   "cell_type": "code",
   "execution_count": 49,
   "metadata": {},
   "outputs": [
    {
     "name": "stdout",
     "output_type": "stream",
     "text": [
      "['Apple', \"'s\", 'iOS', '9', \"'App\", 'thinning', 'feature', 'will', 'give', 'your', 'phone', \"'s\", 'storage', 'a', 'boost']\n"
     ]
    },
    {
     "data": {
      "text/plain": [
       "15"
      ]
     },
     "execution_count": 49,
     "metadata": {},
     "output_type": "execute_result"
    }
   ],
   "source": [
    "from nltk.tokenize import word_tokenize\n",
    "from string import punctuation\n",
    "\n",
    "tokensList = []\n",
    "\n",
    "for x in range(0, len(raw_instance_train)):\n",
    "    tokens = word_tokenize(raw_instance_train[x]['postText'][0])\n",
    "    tokensList.append(tokens)\n",
    "    tokensList[x] = [c for c in tokens if c not in punctuation]\n",
    "    \n",
    "print(tokensList[0])\n",
    "len(tokensList[0])"
   ]
  },
  {
   "cell_type": "code",
   "execution_count": null,
   "metadata": {},
   "outputs": [],
   "source": []
  }
 ],
 "metadata": {
  "kernelspec": {
   "display_name": "Python 3",
   "language": "python",
   "name": "python3"
  },
  "language_info": {
   "codemirror_mode": {
    "name": "ipython",
    "version": 3
   },
   "file_extension": ".py",
   "mimetype": "text/x-python",
   "name": "python",
   "nbconvert_exporter": "python",
   "pygments_lexer": "ipython3",
   "version": "3.6.5"
  }
 },
 "nbformat": 4,
 "nbformat_minor": 2
}
