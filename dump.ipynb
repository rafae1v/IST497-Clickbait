{
 "cells": [
  {
   "cell_type": "code",
   "execution_count": 1,
   "metadata": {
    "collapsed": true
   },
   "outputs": [],
   "source": [
    "import json # build-in library\n",
    "import arff # https://pypi.python.org/pypi/liac-arff"
   ]
  },
  {
   "cell_type": "code",
   "execution_count": 2,
   "metadata": {
    "collapsed": true
   },
   "outputs": [],
   "source": [
    "features = [(\"word count\", 'NUMERIC'),\n",
    "            (\"average word length\", 'NUMERIC'),\n",
    "            (\"length of the longest word\", 'NUMERIC'),\n",
    "            (\"whether start with number\", ['True', 'False']),\n",
    "            (\"whether start with who/what/why/where/when/how\", ['True', 'False']),\n",
    "            (\"label\", ['0', '1'])]"
   ]
  },
  {
   "cell_type": "code",
   "execution_count": 3,
   "metadata": {
    "collapsed": true
   },
   "outputs": [],
   "source": [
    "def extract_features(text):\n",
    "    doc = text.strip().split(' ')\n",
    "    f1 = 0\n",
    "    f2 = 0\n",
    "    f3 = 0\n",
    "    f4 = False\n",
    "    f5 = False\n",
    "    for token in doc:\n",
    "        word = token.lower()\n",
    "        if f1 == 0:\n",
    "            if word[0].isdigit():\n",
    "                f4 = True\n",
    "            if word in ['who', 'what', 'why', 'where', 'when', 'how']:\n",
    "                f5 = True\n",
    "        f1 += 1\n",
    "        length = len(word)\n",
    "        f2 += length\n",
    "        f3 = max(f3, length)\n",
    "    if f1 == 0:\n",
    "        return False\n",
    "    return (f1, f2 * 1.0 / f1, f3, f4, f5)"
   ]
  },
  {
   "cell_type": "code",
   "execution_count": 4,
   "metadata": {},
   "outputs": [
    {
     "name": "stdout",
     "output_type": "stream",
     "text": [
      "17535\n"
     ]
    }
   ],
   "source": [
    "id_features = {}\n",
    "with open('instances_train.jsonl', 'r') as f:\n",
    "    for line in f:\n",
    "        dic = json.loads(line)\n",
    "        if len(dic['postText'][0]) > 0:\n",
    "            feat = extract_features(dic['postText'][0])\n",
    "            if feat != False:\n",
    "                id_features.setdefault(dic['id'], feat)\n",
    "print(len(id_features))"
   ]
  },
  {
   "cell_type": "code",
   "execution_count": 5,
   "metadata": {},
   "outputs": [
    {
     "name": "stdout",
     "output_type": "stream",
     "text": [
      "17535\n"
     ]
    }
   ],
   "source": [
    "id_labels = {}\n",
    "with open('truth_train.jsonl', 'r') as f:\n",
    "    for line in f:\n",
    "        dic = json.loads(line)\n",
    "        label = 1\n",
    "        if dic['truthClass'][0] == 'n':\n",
    "            label = 0\n",
    "        if dic['id'] in id_features:\n",
    "            id_labels.setdefault(dic['id'], label)\n",
    "print(len(id_labels))"
   ]
  },
  {
   "cell_type": "code",
   "execution_count": 6,
   "metadata": {},
   "outputs": [],
   "source": [
    "###### dump data into arff file\n",
    "\n",
    "data = {}\n",
    "data.setdefault('attributes', features)\n",
    "data.setdefault('description', '')\n",
    "data.setdefault('relation', 'clickbait_sample')\n",
    "data.setdefault('data', [])\n",
    "for i in id_labels:\n",
    "    tmp = [_ for _ in id_features[i]]\n",
    "    tmp.append(str(id_labels[i]))\n",
    "    data['data'].append(tmp)\n",
    "\n",
    "with open('sample_train.arff', 'w') as f:\n",
    "    f.write(arff.dumps(data))"
   ]
  },
  {
   "cell_type": "code",
   "execution_count": null,
   "metadata": {
    "collapsed": true
   },
   "outputs": [],
   "source": []
  }
 ],
 "metadata": {
  "kernelspec": {
   "display_name": "Python 3",
   "language": "python",
   "name": "python3"
  },
  "language_info": {
   "codemirror_mode": {
    "name": "ipython",
    "version": 3
   },
   "file_extension": ".py",
   "mimetype": "text/x-python",
   "name": "python",
   "nbconvert_exporter": "python",
   "pygments_lexer": "ipython3",
   "version": "3.5.2"
  }
 },
 "nbformat": 4,
 "nbformat_minor": 2
}
