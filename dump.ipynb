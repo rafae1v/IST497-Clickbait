{
 "cells": [
  {
   "cell_type": "code",
   "execution_count": 1,
   "metadata": {
    "collapsed": true
   },
   "outputs": [],
   "source": [
    "import json # build-in library\n",
    "import arff # https://pypi.python.org/pypi/liac-arff"
   ]
  },
  {
   "cell_type": "code",
   "execution_count": 2,
   "metadata": {
    "collapsed": true
   },
   "outputs": [],
   "source": [
    "features = [(\"word count\", 'NUMERIC'),\n",
    "            (\"average word length\", 'NUMERIC'),\n",
    "            (\"length of the longest word\", 'NUMERIC'),\n",
    "            (\"whether start with number\", ['True', 'False']),\n",
    "            (\"whether start with who/what/why/where/when/how\", ['True', 'False']),\n",
    "            (\"label\", ['0', '1'])]"
   ]
  },
  {
   "cell_type": "code",
   "execution_count": 3,
   "metadata": {
    "collapsed": true
   },
   "outputs": [],
   "source": [
    "def extract_features(text):\n",
    "    doc = text.strip().split(' ')\n",
    "    f1 = 0\n",
    "    f2 = 0\n",
    "    f3 = 0\n",
    "    f4 = False\n",
    "    f5 = False\n",
    "    for token in doc:\n",
    "        word = token.lower()\n",
    "        if f1 == 0:\n",
    "            if word[0].isdigit():\n",
    "                f4 = True\n",
    "            if word in ['who', 'what', 'why', 'where', 'when', 'how']:\n",
    "                f5 = True\n",
    "        f1 += 1\n",
    "        length = len(word)\n",
    "        f2 += length\n",
    "        f3 = max(f3, length)\n",
    "    if f1 == 0:\n",
    "        return False\n",
    "    return (f1, f2 * 1.0 / f1, f3, f4, f5)"
   ]
  },
  {
   "cell_type": "code",
   "execution_count": 14,
   "metadata": {},
   "outputs": [
    {
     "name": "stdout",
     "output_type": "stream",
     "text": [
      "2196\n",
      "['']\n",
      "2213\n",
      "['']\n",
      "2217\n",
      "['']\n",
      "2235\n",
      "['']\n",
      "2238\n",
      "['']\n",
      "2272\n",
      "['']\n",
      "3781\n",
      "['']\n",
      "3824\n",
      "['']\n",
      "3830\n",
      "['']\n",
      "3865\n",
      "['']\n",
      "5292\n",
      "['']\n",
      "5322\n",
      "['']\n",
      "5347\n",
      "['']\n",
      "5372\n",
      "['']\n",
      "5381\n",
      "['']\n",
      "6766\n",
      "['']\n",
      "6829\n",
      "['']\n",
      "6835\n",
      "['']\n",
      "6855\n",
      "['']\n",
      "6882\n",
      "['']\n",
      "6926\n",
      "['']\n",
      "8424\n",
      "['']\n",
      "8474\n",
      "['']\n",
      "8539\n",
      "['']\n",
      "8904\n",
      "['']\n",
      "9925\n",
      "['']\n",
      "9941\n",
      "['']\n",
      "9981\n",
      "['']\n",
      "11527\n",
      "['']\n",
      "11635\n",
      "['']\n",
      "13163\n",
      "['']\n",
      "13171\n",
      "['']\n",
      "13204\n",
      "['']\n",
      "13206\n",
      "['']\n",
      "13233\n",
      "['']\n",
      "14695\n",
      "['']\n",
      "14704\n",
      "['']\n",
      "14750\n",
      "['']\n",
      "14760\n",
      "['']\n",
      "14780\n",
      "['']\n",
      "16251\n",
      "['']\n",
      "16280\n",
      "['']\n",
      "16288\n",
      "['']\n",
      "16300\n",
      "['']\n",
      "16302\n",
      "['']\n",
      "16306\n",
      "['']\n",
      "17535\n"
     ]
    }
   ],
   "source": [
    "id_features = {}\n",
    "with open('../clickbait_dataset/instances_train.jsonl', 'r') as f:\n",
    "    for line in f:\n",
    "        dic = json.loads(line)\n",
    "        if len(dic['postText'][0]) > 0:\n",
    "            feat = extract_features(dic['postText'][0])\n",
    "            if feat != False:\n",
    "                id_features.setdefault(dic['id'], feat)\n",
    "        else:\n",
    "            print(dic['id'])\n",
    "            print(dic['postText'])\n",
    "            \n",
    "print(len(id_features))"
   ]
  },
  {
   "cell_type": "code",
   "execution_count": 18,
   "metadata": {},
   "outputs": [],
   "source": [
    "id_labels = []\n",
    "with open('../clickbait_dataset/truth_train.jsonl', 'r') as f:\n",
    "    for line in f:\n",
    "        dic = json.loads(line)\n",
    "        label = 1\n",
    "        if dic['truthClass'][0] == 'n':\n",
    "            label = 0\n",
    "        if dic['id'] in id_features:\n",
    "            id_labels.append(label)\n",
    "#print((id_labels))\n"
   ]
  },
  {
   "cell_type": "code",
   "execution_count": 16,
   "metadata": {},
   "outputs": [
    {
     "name": "stdout",
     "output_type": "stream",
     "text": [
      "1\n"
     ]
    }
   ],
   "source": [
    "#truthClass non-clickbait = 0\n",
    "#clickbait = 1\n",
    "print(id_labels[1976])"
   ]
  },
  {
   "cell_type": "code",
   "execution_count": 6,
   "metadata": {
    "collapsed": true
   },
   "outputs": [],
   "source": [
    "###### dump data into arff file\n",
    "\n",
    "data = {}\n",
    "data.setdefault('attributes', features)\n",
    "data.setdefault('description', '')\n",
    "data.setdefault('relation', 'clickbait_sample')\n",
    "data.setdefault('data', [])\n",
    "for i in id_labels:\n",
    "    tmp = [_ for _ in id_features[i]]\n",
    "    tmp.append(str(id_labels[i]))\n",
    "    data['data'].append(tmp)\n",
    "\n",
    "with open('sample_train.arff', 'w') as f:\n",
    "    f.write(arff.dumps(data))"
   ]
  },
  {
   "cell_type": "code",
   "execution_count": null,
   "metadata": {
    "collapsed": true
   },
   "outputs": [],
   "source": []
  }
 ],
 "metadata": {
  "kernelspec": {
   "display_name": "Python 3",
   "language": "python",
   "name": "python3"
  },
  "language_info": {
   "codemirror_mode": {
    "name": "ipython",
    "version": 3
   },
   "file_extension": ".py",
   "mimetype": "text/x-python",
   "name": "python",
   "nbconvert_exporter": "python",
   "pygments_lexer": "ipython3",
   "version": "3.6.3"
  }
 },
 "nbformat": 4,
 "nbformat_minor": 2
}
