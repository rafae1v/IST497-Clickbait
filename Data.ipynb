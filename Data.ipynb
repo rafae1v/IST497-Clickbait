{
 "cells": [
  {
   "cell_type": "code",
   "execution_count": 7,
   "metadata": {},
   "outputs": [
    {
     "name": "stdout",
     "output_type": "stream",
     "text": [
      "[nltk_data] Downloading package stopwords to\n",
      "[nltk_data]     /Users/EthanHsu/nltk_data...\n",
      "[nltk_data]   Package stopwords is already up-to-date!\n"
     ]
    }
   ],
   "source": [
    "#EDA\n",
    "#jupyter notebook --NotebookApp.iopub_data_rate_limit=10000000\n",
    "#to download json_lines: python -m pip install json-lines\n",
    "#pip install textstat\n",
    "#pip install --upgrade gensim\n",
    "from pathlib import Path\n",
    "import json_lines, json, copy\n",
    "import numpy as np\n",
    "from nltk.tokenize import word_tokenize\n",
    "from string import punctuation\n",
    "from nltk.corpus import stopwords\n",
    "from nltk.tokenize import word_tokenize\n",
    "from nltk.stem import PorterStemmer\n",
    "from nltk.stem import WordNetLemmatizer\n",
    "\n",
    "import gensim.downloader as api\n",
    "import gensim\n",
    "from nltk.util import ngrams \n",
    "import nltk\n",
    "from nltk.corpus import stopwords\n",
    "from nltk import download\n",
    "nltk.download('stopwords')\n",
    "from nltk import word_tokenize, pos_tag\n",
    "from gensim import corpora\n",
    "\n",
    "import csv\n",
    "from textstat.textstat import textstat\n",
    "stop_words = stopwords.words('english')\n",
    "from nltk.stem.porter import PorterStemmer\n",
    "porter_stemmer = PorterStemmer()\n",
    "\n",
    "from nltk.tokenize import TweetTokenizer\n",
    "\n",
    "\n",
    "#TODO combine lists into csv\n",
    "\n",
    "#toy example\n",
    "#rows = zip(list1,list2,list3,list4,list5)\n",
    "#with open(newfilePath, \"w\") as f:\n",
    "#    writer = csv.writer(f)\n",
    "#    for row in rows:\n",
    "#        writer.writerow(row)"
   ]
  },
  {
   "cell_type": "code",
   "execution_count": 8,
   "metadata": {
    "collapsed": true
   },
   "outputs": [],
   "source": [
    "#assorted cleaning\n",
    "stopWords = stopwords.words('english')\n",
    "\n",
    "def stem_tokens(tokens, ps):\n",
    "    stemmed = []\n",
    "    for item in tokens:\n",
    "        stemmed.append(ps.stem(item))\n",
    "    return stemmed\n",
    "ps = PorterStemmer()\n",
    "\n",
    "def lemmatize_tokens(tokens, wnl):\n",
    "    lemmatized = []\n",
    "    for item in tokens:\n",
    "        lemmatized.append(wnl.lemmatize(item))\n",
    "    return lemmatized\n",
    "wnl = WordNetLemmatizer()\n"
   ]
  },
  {
   "cell_type": "code",
   "execution_count": 9,
   "metadata": {
    "collapsed": true
   },
   "outputs": [],
   "source": [
    "raw_instance_filePath = Path(\"../clickbait_dataset/instances_train.jsonl\")\n",
    "raw_instance_dir = Path(\"../clickbait_dataset\")\n",
    "raw_truth_filePath = Path(\"../clickbait_dataset/truth_train.jsonl\")\n",
    "raw_truth_dir = Path(\"../clickbait_dataset\")"
   ]
  },
  {
   "cell_type": "code",
   "execution_count": 10,
   "metadata": {
    "scrolled": true
   },
   "outputs": [
    {
     "data": {
      "text/plain": [
       "{'id': '0',\n",
       " 'postMedia': [],\n",
       " 'postText': [\"Apple's iOS 9 'App thinning' feature will give your phone's storage a boost\"],\n",
       " 'postTimestamp': 'Tue Jun 09 16:31:10 +0000 2015',\n",
       " 'targetCaptions': [\"'App thinning' will be supported on Apple's iOS 9 and later models. It ensures apps use the lowest amount of storage space on a device by only downloading the parts it needs to run on individual handsets. It 'slices' the app into 'app variants' that only need to access the specific files on that specific device\",\n",
       "  \"'App thinning' will be supported on Apple's iOS 9 and later models. It ensures apps use the lowest amount of storage space on a device by only downloading the parts it needs to run on individual handsets. It 'slices' the app into 'app variants' that only need to access the specific files on that specific device\",\n",
       "  \"The guidelines also discuss so-called 'on-demand resources.' This allows developers to omit features from an app until they are opened or requested by the user. The App Store hosts these resources on Apple servers and manages the downloads for the developer and user.\\xa0This will also increase how quickly an app downloads\",\n",
       "  \"The guidelines also discuss so-called 'on-demand resources.' This allows developers to omit features from an app until they are opened or requested by the user. The App Store hosts these resources on Apple servers and manages the downloads for the developer and user.\\xa0This will also increase how quickly an app downloads\",\n",
       "  \"Apple said it will then 'purge on-demand resources when they are no longer needed and disk space is low' (Apple's storage menu is pictured)\",\n",
       "  \"Apple said it will then 'purge on-demand resources when they are no longer needed and disk space is low' (Apple's storage menu is pictured)\",\n",
       "  'A 64GB Apple iPhone 6 is typically left with 56GB of free space after pre-installed apps, system files and software is included. A drop of 8GB, leaving 87.5 % of storage free.\\xa0Previous handsets, including the Samsung Galaxy S4 and Apple iPhone 5C typically ranged from between 54% and 79% of free space (illustrated)',\n",
       "  'A 64GB Apple iPhone 6 is typically left with 56GB of free space after pre-installed apps, system files and software is included. A drop of 8GB, leaving 87.5 % of storage free.\\xa0Previous handsets, including the Samsung Galaxy S4 and Apple iPhone 5C typically ranged from between 54% and 79% of free space (illustrated)',\n",
       "  \"Earlier this year, a pair of disgruntled Apple users filed a lawsuit in Miami accusing the tech giant of 'concealing, omitting and failing to disclose' that on 16GB versions of iPhones, more than 20% of the advertised space isn't available. This graph reveals the capacity available and unavailable to the user\",\n",
       "  \"Earlier this year, a pair of disgruntled Apple users filed a lawsuit in Miami accusing the tech giant of 'concealing, omitting and failing to disclose' that on 16GB versions of iPhones, more than 20% of the advertised space isn't available. This graph reveals the capacity available and unavailable to the user\"],\n",
       " 'targetDescription': \"'App thinning' will be supported on Apple's iOS 9 and later models. It ensures apps use the lowest amount of storage space by 'slicing' it to work on individual handsets (illustrated).\",\n",
       " 'targetKeywords': 'Apple,gives,gigabytes,iOS,9,app,thinning,feature,finally,phone,s,storage,boost',\n",
       " 'targetParagraphs': [\"Paying for a 64GB phone only to discover that this is significantly reduced by system files and bloatware is the bane of many smartphone owner's lives.\\xa0\",\n",
       "  'And the issue became so serious earlier this year that some Apple users even sued the company over it.\\xa0',\n",
       "  \"But with the launch of iOS 9, Apple is hoping to address storage concerns by introducing a feature known as 'app thinning.'\",\n",
       "  'It has been explained on the watchOS Developer Library site and is aimed at developers looking to optimise their apps to work on iOS and the watchOS.\\xa0',\n",
       "  'It ensures apps use the lowest amount of storage space on a device by only downloading the parts it needs run on the particular handset it is being installed onto.',\n",
       "  \"It 'slices' the app into 'app variants' that only need to access the specific files on that specific handset.\\xa0\",\n",
       "  \"XperiaBlog recently spotted that the 8GB version of Sony's mid-range M4 Aqua has just 1.26GB of space for users.\\xa0\",\n",
       "  'This means that firmware, pre-installed apps and Android software take up a staggering 84.25 per cent.\\xa0',\n",
       "  \"Sony does let users increase storage space using a microSD card, but as XperiaBlog explained: 'Sony should never have launched an 8GB version of the Xperia M4 Aqua.\\xa0\",\n",
       "  \"'If you are thinking about purchasing this model, be aware of what you are buying into.'\",\n",
       "  \"Previously, apps would need to be able to run on all handsets and account for the varying files, chipsets and power so contained sections that weren't always relevant to the phone it was being installed on.\",\n",
       "  'This made them larger than they needed to be.\\xa0',\n",
       "  'Under the new plans, when a phone is downloaded from the App Store, the app recognises which phone it is being installed onto and only pulls in the files and code it needs to work on that particular device.\\xa0',\n",
       "  'For iOS, sliced apps are supported on the latest iTunes and on devices running iOS 9.0 and later.\\xa0',\n",
       "  \"In all other cases, the App Store will deliver the previous 'universal apps' to customers.\",\n",
       "  \"The guidelines also discuss so-called 'on-demand resources.'\\xa0This allows developers to omit features from an app until they are opened or requested by the user.\\xa0\",\n",
       "  'The App Store hosts these resources on Apple servers and manages the downloads for the developer and user.\\xa0',\n",
       "  'This will also increase how quickly an app downloads.\\xa0',\n",
       "  'An example given by Apple is a game app that may divide resources into game levels and request the next level of resources only when the app anticipates the user has completed the previous level.',\n",
       "  'Similarly, the app can request In-App Purchase resources only when the user buys a corresponding in-app purchase.',\n",
       "  \"Apple explained the operating system will then 'purge on-demand resources when they are no longer needed and disk space is low', removing them until they are needed again.\",\n",
       "  'And the whole iOS 9 software has been designed to be thinner during updates, namely from 4.6GB to 1.3GB, to free up space.\\xa0',\n",
       "  'This app thinning applies to third-party apps created by developers.\\xa0',\n",
       "  \"Apple doesn't say if it will apply to the apps Apple pre-installed on devices, such as Stocks, Weather and Safari - but it is likely that it will in order to make iOS 9 smaller.\\xa0\",\n",
       "  'As an example of storage space on Apple devices, a 64GB Apple iPhone 6 is typically left with 56GB of free space after pre-installed apps, system files and software is included.\\xa0',\n",
       "  'A drop of 8GB, leaving 87.5 per cent of storage free.\\xa0',\n",
       "  \"By comparison, Samsung's 64GB S6 Edge has 53.42GB of available space, and of this 9GB is listed as system memory.\\xa0\",\n",
       "  'Although this is a total drop of almost 11GB, it equates to 83 per cent of space free.\\xa0',\n",
       "  'By comparison, on a 32GB S6 MailOnline found 23.86GB of space was available, with 6.62GB attributed to system memory.',\n",
       "  'This is a drop of just over 8GB and leaves 75 per cent free.',\n",
       "  'Samsung said it, too, had addressed complaints about bloatware and storage space with its S6 range. \\xa0',\n",
       "  'Previous handsets, including the Samsung Galaxy S4 and Apple iPhone 5C typically ranged from between 54 per cent and 79 per cent of free space.',\n",
       "  '\\xa0',\n",
       "  \"Businessman 'killed his best friend when he crashed jet-powered dinghy into his £1million yacht while showing off' as his wife filmed them\"],\n",
       " 'targetTitle': \"Apple gives back gigabytes: iOS 9 'app thinning' feature will finally give your phone's storage a boost\"}"
      ]
     },
     "execution_count": 10,
     "metadata": {},
     "output_type": "execute_result"
    }
   ],
   "source": [
    "#open with json - raw_instance_train\n",
    "raw_instance_train=[]\n",
    "with open('../clickbait_dataset/instances_train.jsonl','rb') as raw_instance_file: #opening file with binary(rb) mode.\n",
    "    for x in raw_instance_file:\n",
    "        raw_instance_train.append(json.loads(x))\n",
    "raw_instance_train[0]\n",
    "\n",
    "### Fields in instances.jsonl:\n",
    "##{\n",
    "#\"id\" : \"<instance id>\",\n",
    "#\"postTimestamp\" : \"<weekday> <month> <day> <hour>:<minute>:<second><time_offset> <year>\",\n",
    "#\"postText\" : [\"<text of the tweet post with links removed>\"],\n",
    "#\"postMedia\" : [\"<path to a file in the media archive>\"],\n",
    "#\"targetTitle\" : \"<title of target news article>\",\n",
    "#\"targetDescription\": \"<description tag of target news article>\",\n",
    "#\"targetKeywords\" : \"<keywords tag of target news article>\",\n",
    "#\"targetParagraphs\" : [\"<text of the i-th paragraph in the target article>\"],\n",
    "#\"targetCaptions\" : [\"<caption of the i-th image in the target article>\"]}\n",
    "### Fields in truth.jsonl:\n",
    "#{\n",
    "#\"id\" : \"<instance id>\",\n",
    "#\"truthJudgments\" : [<number in [0,1]>],\n",
    "#\"truthMean\" : <number in [0,1]>,\n",
    "#\"truthMedian\" : <number in [0,1]>,\n",
    "#\"truthMode\" : <number in [0,1]>,\n",
    "#truthClass\" : \"clickbait | no-clickbait\"\n",
    "#}"
   ]
  },
  {
   "cell_type": "code",
   "execution_count": 11,
   "metadata": {},
   "outputs": [
    {
     "data": {
      "text/plain": [
       "{'id': '7',\n",
       " 'truthClass': 'no-clickbait',\n",
       " 'truthJudgments': [0.33333334, 0.0, 0.33333334, 0.33333334, 0.0],\n",
       " 'truthMean': 0.2,\n",
       " 'truthMedian': 0.33333334,\n",
       " 'truthMode': 0.33333334}"
      ]
     },
     "execution_count": 11,
     "metadata": {},
     "output_type": "execute_result"
    }
   ],
   "source": [
    "#open with json - raw_truth_train\n",
    "\n",
    "raw_truth_train=[]\n",
    "with open('../clickbait_dataset/truth_train.jsonl','rb') as raw_truth_file: #opening file with binary(rb) mode.\n",
    "    for x in raw_truth_file:\n",
    "        raw_truth_train.append(json.loads(x))\n",
    "raw_truth_train[7]\n"
   ]
  },
  {
   "cell_type": "code",
   "execution_count": 12,
   "metadata": {
    "scrolled": true
   },
   "outputs": [
    {
     "name": "stdout",
     "output_type": "stream",
     "text": [
      "<class 'list'>\n",
      "<class 'dict'>\n",
      "17581\n",
      "Check Dict. Indexes for instance_train: dict_keys(['targetCaptions', 'targetDescription', 'postText', 'postTimestamp', 'postMedia', 'targetParagraphs', 'targetTitle', 'id', 'targetKeywords'])\n",
      "Check Dict. Indexes for truth_train: dict_keys(['truthMedian', 'truthMean', 'truthMode', 'truthClass', 'truthJudgments', 'id'])\n"
     ]
    }
   ],
   "source": [
    "#check the properties\n",
    "print(type(raw_instance_train))    #type for whole data: list\n",
    "print(type(raw_instance_train[0]))  #type for each element of the liast: dict\n",
    "print(len(raw_instance_train))\n",
    "print('Check Dict. Indexes for instance_train: ' + str(raw_instance_train[0].keys()))\n",
    "print('Check Dict. Indexes for truth_train: ' + str(raw_truth_train[0].keys()))"
   ]
  },
  {
   "cell_type": "code",
   "execution_count": 13,
   "metadata": {
    "collapsed": true
   },
   "outputs": [],
   "source": [
    "raw_instance_train = [json.loads(line) for line in open(\"../clickbait_dataset/instances_train.jsonl\")]\n",
    "raw_truth_train = [json.loads(line) for line in open(\"../clickbait_dataset/truth_train.jsonl\")]"
   ]
  },
  {
   "cell_type": "code",
   "execution_count": 14,
   "metadata": {
    "collapsed": true
   },
   "outputs": [],
   "source": [
    "#separate into two list (clickbait/ non_clickbait)\n",
    "clickbait_train = []\n",
    "non_clickbait_train = []\n",
    "for x in range(0, len(raw_instance_train)):\n",
    "    if raw_truth_train[x]['truthClass'] == 'clickbait':\n",
    "        temp_dict = copy.deepcopy(raw_instance_train[x])\n",
    "        temp_dict.update(raw_truth_train[x])\n",
    "        clickbait_train.append(temp_dict)\n",
    "    else:\n",
    "        non_clickbait_train.append(raw_instance_train[x])"
   ]
  },
  {
   "cell_type": "code",
   "execution_count": 15,
   "metadata": {
    "scrolled": true
   },
   "outputs": [
    {
     "data": {
      "text/plain": [
       "{'id': '2',\n",
       " 'postMedia': [],\n",
       " 'postText': ['U.S. Soccer should start answering tough questions about Hope Solo, @eric_adelson writes.'],\n",
       " 'postTimestamp': 'Fri Jun 12 23:36:05 +0000 2015',\n",
       " 'targetCaptions': ['US to vote for Ali in FIFA election and not Blatter',\n",
       "  'US to vote for Ali in FIFA election and not Blatter',\n",
       "  \"FILE - This Oct. 10, 2014, file photo shows Sunil Gulati, president of the United States Soccer Federation, during a press conference in Bristol, Conn. The United States says it will vote for Jordan's Prince Ali bin Al-Hussein for FIFA president Friday, May 29, 2015 and not for incumbent Sepp Blatter. (AP Photo/Elise Amendola, File)\"],\n",
       " 'targetDescription': \"A U.S. Senator's scathing letter questioned U.S. Soccer's inadequate handling of Solo's domestic violence charges. It's time for Sunil Gulati to respond.\",\n",
       " 'targetKeywords': '',\n",
       " 'targetParagraphs': [\"WINNIPEG, Manitoba – The bubble U.S. Soccer is putting around Hope Solo isn't working to calm anyone's concerns about the star goalkeeper.\",\n",
       "  \"The latest lament comes from no less than a U.S. Senator, who into Solo's domestic violence incident of last year and offer a detailed explanation of why Solo is on the field. She is expected to be the starting goalkeeper when the USA plays Sweden in its second group game at the Women's World Cup on Friday.\",\n",
       "  '[FC Yahoo: ]',\n",
       "  'U.S. Senator Richard Blumenthal of Connecticut penned a lengthy complaint about the near-silence the organization has given on Solo, especially in the wake of ESPN\\'s \"Outside the Lines\" report on Sunday. Blumenthal wrote that if the report is accurate \"U.S. Soccer\\'s approach to domestic violence and family violence is at best superficial and at worst dangerously neglectful and self-serving.\"',\n",
       "  'This situation is well beyond Solo now. U.S. Soccer has made this a referendum about its own ability to represent the values of the nation. \"As boys and girls tune into Friday\\'s game, watching the women on TV as role models,\" Blumenthal wrote, \"what is the message of starting Hope Solo at goal?\"',\n",
       "  \"[Women's World Cup: | | | ]\",\n",
       "  \"U.S. Soccer is not only avoiding difficult questions, it is also avoiding an account of all its actions. Even NFL commissioner Roger Goodell has, to some extent, owned up to his failures on the Ray Rice case, yet Gulati has not even decried Solo's poor decisions.\",\n",
       "  \"Last September, three months after Solo's domestic violence charges (which were later ), Gulati released this vague statement on the matter:\",\n",
       "  '\"U.S. Soccer takes the issue of domestic violence very seriously. From the beginning, we considered the information available and have taken a deliberate and thoughtful approach regarding Hope Solo\\'s status with the national team. Based on that information, U.S. Soccer stands by our decision to allow her to participate with the team as the legal process unfolds. If new information becomes available we will carefully consider it.\"',\n",
       "  \"A lot of this would be solved if Gulati and Solo held a press conference and claimed some accountability. It's clear from Monday's dominant performance in a 3-1 tournament-opening win over Australia that Solo is not distracted by the national discussion of her past, so a short appearance – even without reporters' questions – probably won't ruin the U.S.'s chances for a trophy. And claiming that Solo has a match to focus on isn't credible as it's basically an admission that a single game is more important than a discussion of domestic violence.\",\n",
       "  \"For Gulati, there is little excuse. The silence, the lack of punishment and then the decision to allow head coach Jill Ellis to discuss (or not discuss) the situation here, combines to make the top official of American soccer look like he doesn't prioritize this issue.\",\n",
       "  '\"In the wake of this violent incident, U.S. Soccer offered no comment publicly for three months,\" Blumenthal wrote. \"It finally issued a statement that was purportedly the result of a \\'deliberate and thoughtful approach\\' to consider the incident and determine Hope Solo\\'s status with the team, but it neglected to include an effort to contact the alleged victims.\"',\n",
       "  'The more U.S. Soccer tries to shift focus to the field, the less it accomplishes that. This is the Super Bowl of women\\'s soccer, and decrying this as \"old news\" doesn\\'t work because the entire country is watching now. Countless Americans are debating whether to root for Solo or not, and her protectors are effectively convincing a lot of people to remain skeptical of her.',\n",
       "  \"It doesn't have to be this way. A better explanation of what Gulati has done on this topic – and a better explanation of what Solo has done to work on her problems – would go a long way toward moving on, especially the way U.S. Soccer clearly wants. Instead, there is opacity where there should be transparency.\",\n",
       "  'The NFL has come under a lot of scrutiny for its efforts to \"protect the shield,\" but U.S. Soccer\\'s shield stands for a lot more than just a sport. That shield shouldn\\'t only be used to defend a player.',\n",
       "  '735'],\n",
       " 'targetTitle': 'U.S. Soccer should start answering tough questions about Hope Solo',\n",
       " 'truthClass': 'clickbait',\n",
       " 'truthJudgments': [0.33333334, 0.6666667, 1.0, 0.0, 0.6666667],\n",
       " 'truthMean': 0.53333336,\n",
       " 'truthMedian': 0.6666667,\n",
       " 'truthMode': 0.6666667}"
      ]
     },
     "execution_count": 15,
     "metadata": {},
     "output_type": "execute_result"
    }
   ],
   "source": [
    "#clickbait_train\n",
    "clickbait_train[0]"
   ]
  },
  {
   "cell_type": "code",
   "execution_count": 16,
   "metadata": {
    "scrolled": true
   },
   "outputs": [
    {
     "data": {
      "text/plain": [
       "{'id': '0',\n",
       " 'postMedia': [],\n",
       " 'postText': [\"Apple's iOS 9 'App thinning' feature will give your phone's storage a boost\"],\n",
       " 'postTimestamp': 'Tue Jun 09 16:31:10 +0000 2015',\n",
       " 'targetCaptions': [\"'App thinning' will be supported on Apple's iOS 9 and later models. It ensures apps use the lowest amount of storage space on a device by only downloading the parts it needs to run on individual handsets. It 'slices' the app into 'app variants' that only need to access the specific files on that specific device\",\n",
       "  \"'App thinning' will be supported on Apple's iOS 9 and later models. It ensures apps use the lowest amount of storage space on a device by only downloading the parts it needs to run on individual handsets. It 'slices' the app into 'app variants' that only need to access the specific files on that specific device\",\n",
       "  \"The guidelines also discuss so-called 'on-demand resources.' This allows developers to omit features from an app until they are opened or requested by the user. The App Store hosts these resources on Apple servers and manages the downloads for the developer and user.\\xa0This will also increase how quickly an app downloads\",\n",
       "  \"The guidelines also discuss so-called 'on-demand resources.' This allows developers to omit features from an app until they are opened or requested by the user. The App Store hosts these resources on Apple servers and manages the downloads for the developer and user.\\xa0This will also increase how quickly an app downloads\",\n",
       "  \"Apple said it will then 'purge on-demand resources when they are no longer needed and disk space is low' (Apple's storage menu is pictured)\",\n",
       "  \"Apple said it will then 'purge on-demand resources when they are no longer needed and disk space is low' (Apple's storage menu is pictured)\",\n",
       "  'A 64GB Apple iPhone 6 is typically left with 56GB of free space after pre-installed apps, system files and software is included. A drop of 8GB, leaving 87.5 % of storage free.\\xa0Previous handsets, including the Samsung Galaxy S4 and Apple iPhone 5C typically ranged from between 54% and 79% of free space (illustrated)',\n",
       "  'A 64GB Apple iPhone 6 is typically left with 56GB of free space after pre-installed apps, system files and software is included. A drop of 8GB, leaving 87.5 % of storage free.\\xa0Previous handsets, including the Samsung Galaxy S4 and Apple iPhone 5C typically ranged from between 54% and 79% of free space (illustrated)',\n",
       "  \"Earlier this year, a pair of disgruntled Apple users filed a lawsuit in Miami accusing the tech giant of 'concealing, omitting and failing to disclose' that on 16GB versions of iPhones, more than 20% of the advertised space isn't available. This graph reveals the capacity available and unavailable to the user\",\n",
       "  \"Earlier this year, a pair of disgruntled Apple users filed a lawsuit in Miami accusing the tech giant of 'concealing, omitting and failing to disclose' that on 16GB versions of iPhones, more than 20% of the advertised space isn't available. This graph reveals the capacity available and unavailable to the user\"],\n",
       " 'targetDescription': \"'App thinning' will be supported on Apple's iOS 9 and later models. It ensures apps use the lowest amount of storage space by 'slicing' it to work on individual handsets (illustrated).\",\n",
       " 'targetKeywords': 'Apple,gives,gigabytes,iOS,9,app,thinning,feature,finally,phone,s,storage,boost',\n",
       " 'targetParagraphs': [\"Paying for a 64GB phone only to discover that this is significantly reduced by system files and bloatware is the bane of many smartphone owner's lives.\\xa0\",\n",
       "  'And the issue became so serious earlier this year that some Apple users even sued the company over it.\\xa0',\n",
       "  \"But with the launch of iOS 9, Apple is hoping to address storage concerns by introducing a feature known as 'app thinning.'\",\n",
       "  'It has been explained on the watchOS Developer Library site and is aimed at developers looking to optimise their apps to work on iOS and the watchOS.\\xa0',\n",
       "  'It ensures apps use the lowest amount of storage space on a device by only downloading the parts it needs run on the particular handset it is being installed onto.',\n",
       "  \"It 'slices' the app into 'app variants' that only need to access the specific files on that specific handset.\\xa0\",\n",
       "  \"XperiaBlog recently spotted that the 8GB version of Sony's mid-range M4 Aqua has just 1.26GB of space for users.\\xa0\",\n",
       "  'This means that firmware, pre-installed apps and Android software take up a staggering 84.25 per cent.\\xa0',\n",
       "  \"Sony does let users increase storage space using a microSD card, but as XperiaBlog explained: 'Sony should never have launched an 8GB version of the Xperia M4 Aqua.\\xa0\",\n",
       "  \"'If you are thinking about purchasing this model, be aware of what you are buying into.'\",\n",
       "  \"Previously, apps would need to be able to run on all handsets and account for the varying files, chipsets and power so contained sections that weren't always relevant to the phone it was being installed on.\",\n",
       "  'This made them larger than they needed to be.\\xa0',\n",
       "  'Under the new plans, when a phone is downloaded from the App Store, the app recognises which phone it is being installed onto and only pulls in the files and code it needs to work on that particular device.\\xa0',\n",
       "  'For iOS, sliced apps are supported on the latest iTunes and on devices running iOS 9.0 and later.\\xa0',\n",
       "  \"In all other cases, the App Store will deliver the previous 'universal apps' to customers.\",\n",
       "  \"The guidelines also discuss so-called 'on-demand resources.'\\xa0This allows developers to omit features from an app until they are opened or requested by the user.\\xa0\",\n",
       "  'The App Store hosts these resources on Apple servers and manages the downloads for the developer and user.\\xa0',\n",
       "  'This will also increase how quickly an app downloads.\\xa0',\n",
       "  'An example given by Apple is a game app that may divide resources into game levels and request the next level of resources only when the app anticipates the user has completed the previous level.',\n",
       "  'Similarly, the app can request In-App Purchase resources only when the user buys a corresponding in-app purchase.',\n",
       "  \"Apple explained the operating system will then 'purge on-demand resources when they are no longer needed and disk space is low', removing them until they are needed again.\",\n",
       "  'And the whole iOS 9 software has been designed to be thinner during updates, namely from 4.6GB to 1.3GB, to free up space.\\xa0',\n",
       "  'This app thinning applies to third-party apps created by developers.\\xa0',\n",
       "  \"Apple doesn't say if it will apply to the apps Apple pre-installed on devices, such as Stocks, Weather and Safari - but it is likely that it will in order to make iOS 9 smaller.\\xa0\",\n",
       "  'As an example of storage space on Apple devices, a 64GB Apple iPhone 6 is typically left with 56GB of free space after pre-installed apps, system files and software is included.\\xa0',\n",
       "  'A drop of 8GB, leaving 87.5 per cent of storage free.\\xa0',\n",
       "  \"By comparison, Samsung's 64GB S6 Edge has 53.42GB of available space, and of this 9GB is listed as system memory.\\xa0\",\n",
       "  'Although this is a total drop of almost 11GB, it equates to 83 per cent of space free.\\xa0',\n",
       "  'By comparison, on a 32GB S6 MailOnline found 23.86GB of space was available, with 6.62GB attributed to system memory.',\n",
       "  'This is a drop of just over 8GB and leaves 75 per cent free.',\n",
       "  'Samsung said it, too, had addressed complaints about bloatware and storage space with its S6 range. \\xa0',\n",
       "  'Previous handsets, including the Samsung Galaxy S4 and Apple iPhone 5C typically ranged from between 54 per cent and 79 per cent of free space.',\n",
       "  '\\xa0',\n",
       "  \"Businessman 'killed his best friend when he crashed jet-powered dinghy into his £1million yacht while showing off' as his wife filmed them\"],\n",
       " 'targetTitle': \"Apple gives back gigabytes: iOS 9 'app thinning' feature will finally give your phone's storage a boost\"}"
      ]
     },
     "execution_count": 16,
     "metadata": {},
     "output_type": "execute_result"
    }
   ],
   "source": [
    "#non_clickbait_train\n",
    "non_clickbait_train[0]"
   ]
  },
  {
   "cell_type": "code",
   "execution_count": 17,
   "metadata": {
    "collapsed": true
   },
   "outputs": [],
   "source": [
    "#Post Text tokenizing and word count manually\n",
    "postTextTokens = []\n",
    "postTextTokensNoPun = []\n",
    "postTextCountTokens = []\n",
    "\n",
    "for x in range(0, len(raw_instance_train)):\n",
    "    tokens = word_tokenize(raw_instance_train[x]['postText'][0])\n",
    "    postTextCountTokens.append([x for x in tokens if x != []])\n",
    "    postTextTokensNoPun.append([c for c in tokens if c not in punctuation])\n",
    "#print(postTextTokens[0])\n",
    "#print(len(postTextTokens[0]))"
   ]
  },
  {
   "cell_type": "code",
   "execution_count": 18,
   "metadata": {
    "collapsed": true
   },
   "outputs": [],
   "source": [
    "def doc_parser(document):\n",
    "    #print(document)\n",
    "    #print(porter_stemmer.stem(document))\n",
    "    #print(stem_doc)\n",
    "    tokens = word_tokenize(document)\n",
    "    non_empty_tokens = [x for x in tokens if x != []]\n",
    "    clean_tokens = [c for c in non_empty_tokens if c not in punctuation and stop_words]\n",
    "    #non_apos_tokens = [c.replace(\"'\", \"\") for c in non_empty_tokens]\n",
    "    return clean_tokens"
   ]
  },
  {
   "cell_type": "code",
   "execution_count": 19,
   "metadata": {
    "collapsed": true
   },
   "outputs": [],
   "source": [
    "def doc_punc_parser(document):\n",
    "    #print(document)\n",
    "    #print(porter_stemmer.stem(document))\n",
    "    #print(stem_doc)\n",
    "    tokens = word_tokenize(document)\n",
    "    non_empty_tokens = [x for x in tokens if x != []]\n",
    "    #clean_tokens = [c for c in non_empty_tokens if c not in punctuation and stop_words]\n",
    "    #non_apos_tokens = [c.replace(\"'\", \"\") for c in non_empty_tokens]\n",
    "    return non_empty_tokens"
   ]
  },
  {
   "cell_type": "code",
   "execution_count": 20,
   "metadata": {
    "collapsed": true
   },
   "outputs": [],
   "source": [
    "# remove common words and tokenize\n",
    "def documentParser(document):  \n",
    "    #print(punctuation)\n",
    "    stoplist = set('for a of the and to in'.split())\n",
    "    tokens = [word for word in document.lower().split() if word not in stoplist and punctuation]\n",
    "    #print(tokens)\n",
    "    #stem_tokens = [porter_stemmer.stem(a) for a in tokens]\n",
    "    #print(\"stem\",stem_tokens)\n",
    "    non_apos_tokens = [c.replace(\"'\", \"\").replace(\":\", \"\").replace(\".\", \"\").replace(\",\", \"\") for c in tokens]\n",
    "    return non_apos_tokens"
   ]
  },
  {
   "cell_type": "code",
   "execution_count": 21,
   "metadata": {
    "collapsed": true
   },
   "outputs": [],
   "source": [
    "from sklearn.feature_extraction.text import TfidfVectorizer\n",
    "def sklearn_TfidfVectorizer(document):\n",
    "    vectorizer = TfidfVectorizer()\n",
    "    X = vectorizer.fit_transform(document)\n",
    "    #print(X.shape)\n",
    "    return vectorizer.get_feature_names()\n",
    "    "
   ]
  },
  {
   "cell_type": "code",
   "execution_count": 22,
   "metadata": {
    "collapsed": true
   },
   "outputs": [],
   "source": [
    "def tweet_Tokenizer(document):\n",
    "    tknzr = TweetTokenizer()\n",
    "    #tknzr = TweetTokenizer(strip_handles=True, reduce_len=True)\n",
    "    \n",
    "    return [c for c in tknzr.tokenize(document) if c not in punctuation]"
   ]
  },
  {
   "cell_type": "code",
   "execution_count": 23,
   "metadata": {},
   "outputs": [
    {
     "name": "stdout",
     "output_type": "stream",
     "text": [
      "[\"Apple's iOS 9 'App thinning' feature will give your phone's storage a boost\"]\n",
      "---------------------\n",
      "postTextCountTokens:  ['Apple', \"'s\", 'iOS', '9', \"'App\", 'thinning', \"'\", 'feature', 'will', 'give', 'your', 'phone', \"'s\", 'storage', 'a', 'boost'] \n",
      "\n",
      "postTextTokensNoPun:  ['Apple', \"'s\", 'iOS', '9', \"'App\", 'thinning', 'feature', 'will', 'give', 'your', 'phone', \"'s\", 'storage', 'a', 'boost'] \n",
      "\n",
      "doc_parser():  ['Apple', \"'s\", 'iOS', '9', \"'App\", 'thinning', 'feature', 'will', 'give', 'your', 'phone', \"'s\", 'storage', 'a', 'boost'] \n",
      "\n",
      "doc_punc_parser():  ['Apple', \"'s\", 'iOS', '9', \"'App\", 'thinning', \"'\", 'feature', 'will', 'give', 'your', 'phone', \"'s\", 'storage', 'a', 'boost'] \n",
      "\n",
      "documentParser():  ['apples', 'ios', '9', 'app', 'thinning', 'feature', 'will', 'give', 'your', 'phones', 'storage', 'boost'] \n",
      "\n",
      "sklearn_TfidfVectorizer():  ['app', 'apple', 'boost', 'feature', 'give', 'ios', 'phone', 'storage', 'thinning', 'will', 'your'] \n",
      "\n",
      "Tweet_Tokenizer():  [\"Apple's\", 'iOS', '9', 'App', 'thinning', 'feature', 'will', 'give', 'your', \"phone's\", 'storage', 'a', 'boost'] \n",
      "\n"
     ]
    }
   ],
   "source": [
    "print(raw_instance_train[0]['postText'])\n",
    "print(\"---------------------\")\n",
    "print(\"postTextCountTokens: \", postTextCountTokens[0], \"\\n\")\n",
    "print(\"postTextTokensNoPun: \", postTextTokensNoPun[0], \"\\n\")\n",
    "print(\"doc_parser(): \",doc_parser(raw_instance_train[0]['postText'][0]), \"\\n\")\n",
    "print(\"doc_punc_parser(): \", doc_punc_parser(raw_instance_train[0]['postText'][0]), \"\\n\")\n",
    "print(\"documentParser(): \", documentParser(raw_instance_train[0]['postText'][0]), \"\\n\")\n",
    "print(\"sklearn_TfidfVectorizer(): \",sklearn_TfidfVectorizer(raw_instance_train[0]['postText']), \"\\n\")\n",
    "print(\"Tweet_Tokenizer(): \", tweet_Tokenizer(raw_instance_train[0]['postText'][0]), \"\\n\")"
   ]
  },
  {
   "cell_type": "code",
   "execution_count": 24,
   "metadata": {},
   "outputs": [
    {
     "name": "stdout",
     "output_type": "stream",
     "text": [
      "Apple gives back gigabytes: iOS 9 'app thinning' feature will finally give your phone's storage a boost\n"
     ]
    },
    {
     "data": {
      "text/plain": [
       "['apple',\n",
       " 'gives',\n",
       " 'back',\n",
       " 'gigabytes',\n",
       " 'ios',\n",
       " '9',\n",
       " 'app',\n",
       " 'thinning',\n",
       " 'feature',\n",
       " 'will',\n",
       " 'finally',\n",
       " 'give',\n",
       " 'your',\n",
       " 'phones',\n",
       " 'storage',\n",
       " 'boost']"
      ]
     },
     "execution_count": 24,
     "metadata": {},
     "output_type": "execute_result"
    }
   ],
   "source": [
    "print(raw_instance_train[0]['targetTitle'])\n",
    "documentParser(raw_instance_train[0]['targetTitle'])"
   ]
  },
  {
   "cell_type": "code",
   "execution_count": 25,
   "metadata": {},
   "outputs": [
    {
     "name": "stdout",
     "output_type": "stream",
     "text": [
      "26\n"
     ]
    }
   ],
   "source": [
    "countLongestWord = []\n",
    "\n",
    "def count_longest_word(word_list):  \n",
    "    longest_word =  max(word_list , key=len)\n",
    "    return len(longest_word)\n",
    "\n",
    "for x in range(0, 1751):\n",
    "    countLongestWord.append(count_longest_word(postTextTokensNoPun[x]))\n",
    "\n",
    "print(max(countLongestWord))\n"
   ]
  },
  {
   "cell_type": "code",
   "execution_count": 26,
   "metadata": {},
   "outputs": [
    {
     "name": "stdout",
     "output_type": "stream",
     "text": [
      "['Fury', 'as', 'men', 'throw', 'a', 'cat', 'into', 'a', 'crocodile-infested', 'pond']\n"
     ]
    },
    {
     "data": {
      "text/plain": [
       "18"
      ]
     },
     "execution_count": 26,
     "metadata": {},
     "output_type": "execute_result"
    }
   ],
   "source": [
    "print(postTextTokensNoPun[915])\n",
    "count_longest_word(postTextTokensNoPun[915])"
   ]
  },
  {
   "cell_type": "code",
   "execution_count": 27,
   "metadata": {
    "collapsed": true
   },
   "outputs": [],
   "source": [
    "#Lexicon (Word) Count\n",
    "targetTitleCountWords = []\n",
    "for x in range(0, len(raw_instance_train)):\n",
    "    targetTitleCountWords.append(textstat.lexicon_count(raw_instance_train[x]['targetTitle'][0], removepunct=True))"
   ]
  },
  {
   "cell_type": "code",
   "execution_count": 28,
   "metadata": {
    "collapsed": true
   },
   "outputs": [],
   "source": [
    "#Grade Level reading difficulty\n",
    "#Coleman-Liau index, Gunning FOG Formula, Linsear Write Formula\n",
    "targetTitle_coleman_liau_index = []\n",
    "targetTitle_gunning_fog = []\n",
    "targetTitle_linsear_write_formula = []\n",
    "for x in range(0, len(raw_instance_train)):\n",
    "    targetTitle_coleman_liau_index.append(textstat.coleman_liau_index(raw_instance_train[x]['targetTitle']))\n",
    "    targetTitle_gunning_fog.append(textstat.gunning_fog(raw_instance_train[x]['targetTitle']))\n",
    "    targetTitle_linsear_write_formula.append(textstat.linsear_write_formula(raw_instance_train[x]['targetTitle']))\n",
    "targetTitle_coleman_liau_index = []\n"
   ]
  },
  {
   "cell_type": "code",
   "execution_count": 29,
   "metadata": {},
   "outputs": [
    {
     "name": "stdout",
     "output_type": "stream",
     "text": [
      "Apple gives back gigabytes: iOS 9 'app thinning' feature will finally give your phone's storage a boost\n"
     ]
    },
    {
     "data": {
      "text/plain": [
       "12.12"
      ]
     },
     "execution_count": 29,
     "metadata": {},
     "output_type": "execute_result"
    }
   ],
   "source": [
    "print(raw_instance_train[0]['targetTitle'])\n",
    "textstat.coleman_liau_index(raw_instance_train[0]['targetTitle'])\n"
   ]
  },
  {
   "cell_type": "code",
   "execution_count": 30,
   "metadata": {
    "scrolled": true
   },
   "outputs": [
    {
     "name": "stdout",
     "output_type": "stream",
     "text": [
      "Apple gives back gigabytes: iOS 9 'app thinning' feature will finally give your phone's storage a boost\n"
     ]
    },
    {
     "data": {
      "text/plain": [
       "20.564705882352943"
      ]
     },
     "execution_count": 30,
     "metadata": {},
     "output_type": "execute_result"
    }
   ],
   "source": [
    "print(raw_instance_train[0]['targetTitle'])\n",
    "textstat.gunning_fog(raw_instance_train[0]['targetTitle'])"
   ]
  },
  {
   "cell_type": "code",
   "execution_count": 31,
   "metadata": {},
   "outputs": [
    {
     "name": "stdout",
     "output_type": "stream",
     "text": [
      "Apple gives back gigabytes: iOS 9 'app thinning' feature will finally give your phone's storage a boost\n"
     ]
    },
    {
     "data": {
      "text/plain": [
       "6.5"
      ]
     },
     "execution_count": 31,
     "metadata": {},
     "output_type": "execute_result"
    }
   ],
   "source": [
    "print(raw_instance_train[0]['targetTitle'])\n",
    "textstat.linsear_write_formula(raw_instance_train[0]['targetTitle'])"
   ]
  },
  {
   "cell_type": "code",
   "execution_count": 55,
   "metadata": {},
   "outputs": [],
   "source": [
    "# Load Google's pre-trained Word2Vec model.\n",
    "model = gensim.models.KeyedVectors.load_word2vec_format('../GoogleNews-vectors-negative300.bin', binary=True)\n",
    "word_vectors = api.load(\"glove-wiki-gigaword-100\")"
   ]
  },
  {
   "cell_type": "code",
   "execution_count": 56,
   "metadata": {
    "collapsed": true
   },
   "outputs": [],
   "source": [
    "def avg_sim(title, body):\n",
    "    title = api(title)\n",
    "    return np.mean(map(lambda x: title.similarity(api(x)), body))"
   ]
  },
  {
   "cell_type": "code",
   "execution_count": 65,
   "metadata": {},
   "outputs": [],
   "source": [
    "#calculating similarity between titles and body.\n",
    "import spacy\n",
    "#nlp = spacy.load('../GoogleNews-vectors-negative300.bin')\n",
    "\n",
    "def avg_doc_sim(nlp, title, body):\n",
    "#    similarity = word_vectors.n_similarity(title, body)\n",
    "#    return \"{:.4f}\".format(similarity)\n",
    "    print(title)\n",
    "    title = nlp(title)\n",
    "    print(title)\n",
    "    \n",
    "    return np.mean(map(lambda x: title.similarity(nlp(x)), body))"
   ]
  },
  {
   "cell_type": "code",
   "execution_count": 73,
   "metadata": {},
   "outputs": [
    {
     "data": {
      "text/plain": [
       "0.80762849634064104"
      ]
     },
     "execution_count": 73,
     "metadata": {},
     "output_type": "execute_result"
    }
   ],
   "source": [
    "nlp_en = spacy.load('en_core_web_md')\n",
    "doc1 = nlp_en(u\"'Obama speaks to the media in Illinois'\")\n",
    "doc2 = nlp_en(u\"The president greets the press in Chicago\")\n",
    "doc1.similarity(doc2)"
   ]
  },
  {
   "cell_type": "code",
   "execution_count": 78,
   "metadata": {
    "collapsed": true
   },
   "outputs": [],
   "source": [
    "#use this one\n",
    "def spacy_acg_sim(title, body):\n",
    "    body_list = []\n",
    "    title = nlp_en(title)\n",
    "    for b in body:\n",
    "        body_list.append(title.similarity(nlp_en(b)))\n",
    "    return np.mean(body_list)"
   ]
  },
  {
   "cell_type": "code",
   "execution_count": 79,
   "metadata": {},
   "outputs": [
    {
     "data": {
      "text/plain": [
       "0.45000000000000001"
      ]
     },
     "execution_count": 79,
     "metadata": {},
     "output_type": "execute_result"
    }
   ],
   "source": [
    "np.mean([0, 0.1, 0.8, 0.9])"
   ]
  },
  {
   "cell_type": "code",
   "execution_count": 74,
   "metadata": {},
   "outputs": [],
   "source": [
    "sentence_obama = 'Obama speaks to the media in Illinois'#.lower().split()\n",
    "sentence_president = 'The president greets the press in Chicago'#.lower().split()"
   ]
  },
  {
   "cell_type": "code",
   "execution_count": 76,
   "metadata": {},
   "outputs": [
    {
     "data": {
      "text/plain": [
       "0.85945738934493399"
      ]
     },
     "execution_count": 76,
     "metadata": {},
     "output_type": "execute_result"
    }
   ],
   "source": [
    "title_doc1 = nlp_en(raw_instance_train[0]['targetTitle'])\n",
    "paragraph_doc2 = nlp_en(raw_instance_train[0]['targetParagraphs'][0])\n",
    "title_doc1.similarity(paragraph_doc2)"
   ]
  },
  {
   "cell_type": "code",
   "execution_count": 81,
   "metadata": {},
   "outputs": [
    {
     "data": {
      "text/plain": [
       "0.71853533655838242"
      ]
     },
     "execution_count": 81,
     "metadata": {},
     "output_type": "execute_result"
    }
   ],
   "source": [
    "#avg_similairty_result\n",
    "spacy_acg_sim(clickbait_train[0]['targetTitle'],clickbait_train[0]['targetParagraphs'])"
   ]
  },
  {
   "cell_type": "code",
   "execution_count": 82,
   "metadata": {},
   "outputs": [
    {
     "data": {
      "text/plain": [
       "[0.71853533655838242,\n",
       " 0.69679372245086335,\n",
       " 0.81921675845200193,\n",
       " 0.73781977982365066,\n",
       " 0.76393140957036754,\n",
       " 0.56885461412387084,\n",
       " 0.79082285528907958,\n",
       " 0.61477369948484828,\n",
       " 0.60736286439950149,\n",
       " 0.8295308684770043]"
      ]
     },
     "execution_count": 82,
     "metadata": {},
     "output_type": "execute_result"
    }
   ],
   "source": [
    "train_list = []\n",
    "for x in range(0, 10):\n",
    "    train_list.append(spacy_acg_sim(clickbait_train[x]['targetTitle'],clickbait_train[x]['targetParagraphs']))\n",
    "train_list"
   ]
  },
  {
   "cell_type": "code",
   "execution_count": 68,
   "metadata": {},
   "outputs": [
    {
     "name": "stdout",
     "output_type": "stream",
     "text": [
      "Apple gives back gigabytes: iOS 9 'app thinning' feature will finally give your phone's storage a boost\n"
     ]
    },
    {
     "ename": "TypeError",
     "evalue": "'Word2VecKeyedVectors' object is not callable",
     "output_type": "error",
     "traceback": [
      "\u001b[0;31m---------------------------------------------------------------------------\u001b[0m",
      "\u001b[0;31mTypeError\u001b[0m                                 Traceback (most recent call last)",
      "\u001b[0;32m<ipython-input-68-678053de40e3>\u001b[0m in \u001b[0;36m<module>\u001b[0;34m()\u001b[0m\n\u001b[1;32m      1\u001b[0m \u001b[0;31m#checking glove-wiki-gigaword-100 and ../GoogleNews-vectors-negative300.bin performance\u001b[0m\u001b[0;34m\u001b[0m\u001b[0;34m\u001b[0m\u001b[0m\n\u001b[1;32m      2\u001b[0m \u001b[0;31m#print(\"glove-wiki-gigaword-100:\",avg_doc_sim(word_vectors,sentence_obama,sentence_president))\u001b[0m\u001b[0;34m\u001b[0m\u001b[0;34m\u001b[0m\u001b[0m\n\u001b[0;32m----> 3\u001b[0;31m \u001b[0mprint\u001b[0m\u001b[0;34m(\u001b[0m\u001b[0;34m\"GoogleNews:\"\u001b[0m\u001b[0;34m,\u001b[0m \u001b[0mavg_doc_sim\u001b[0m\u001b[0;34m(\u001b[0m\u001b[0mmodel\u001b[0m\u001b[0;34m,\u001b[0m\u001b[0mraw_instance_train\u001b[0m\u001b[0;34m[\u001b[0m\u001b[0;36m0\u001b[0m\u001b[0;34m]\u001b[0m\u001b[0;34m[\u001b[0m\u001b[0;34m'targetTitle'\u001b[0m\u001b[0;34m]\u001b[0m\u001b[0;34m,\u001b[0m \u001b[0mraw_instance_train\u001b[0m\u001b[0;34m[\u001b[0m\u001b[0;36m0\u001b[0m\u001b[0;34m]\u001b[0m\u001b[0;34m[\u001b[0m\u001b[0;34m'targetParagraphs'\u001b[0m\u001b[0;34m]\u001b[0m\u001b[0;34m)\u001b[0m\u001b[0;34m)\u001b[0m\u001b[0;34m\u001b[0m\u001b[0m\n\u001b[0m\u001b[1;32m      4\u001b[0m \u001b[0;31m#raw_instance_train\u001b[0m\u001b[0;34m\u001b[0m\u001b[0;34m\u001b[0m\u001b[0m\n",
      "\u001b[0;32m<ipython-input-65-530f89ad2b18>\u001b[0m in \u001b[0;36mavg_doc_sim\u001b[0;34m(nlp, title, body)\u001b[0m\n\u001b[1;32m      7\u001b[0m \u001b[0;31m#    return \"{:.4f}\".format(similarity)\u001b[0m\u001b[0;34m\u001b[0m\u001b[0;34m\u001b[0m\u001b[0m\n\u001b[1;32m      8\u001b[0m     \u001b[0mprint\u001b[0m\u001b[0;34m(\u001b[0m\u001b[0mtitle\u001b[0m\u001b[0;34m)\u001b[0m\u001b[0;34m\u001b[0m\u001b[0m\n\u001b[0;32m----> 9\u001b[0;31m     \u001b[0mtitle\u001b[0m \u001b[0;34m=\u001b[0m \u001b[0mnlp\u001b[0m\u001b[0;34m(\u001b[0m\u001b[0mtitle\u001b[0m\u001b[0;34m)\u001b[0m\u001b[0;34m\u001b[0m\u001b[0m\n\u001b[0m\u001b[1;32m     10\u001b[0m     \u001b[0mprint\u001b[0m\u001b[0;34m(\u001b[0m\u001b[0mtitle\u001b[0m\u001b[0;34m)\u001b[0m\u001b[0;34m\u001b[0m\u001b[0m\n\u001b[1;32m     11\u001b[0m \u001b[0;34m\u001b[0m\u001b[0m\n",
      "\u001b[0;31mTypeError\u001b[0m: 'Word2VecKeyedVectors' object is not callable"
     ]
    }
   ],
   "source": [
    "#checking glove-wiki-gigaword-100 and ../GoogleNews-vectors-negative300.bin performance\n",
    "#print(\"glove-wiki-gigaword-100:\",avg_doc_sim(word_vectors,sentence_obama,sentence_president))\n",
    "print(\"GoogleNews:\", avg_doc_sim(model,raw_instance_train[0]['targetTitle'], raw_instance_train[0]['targetParagraphs']))\n",
    "#raw_instance_train"
   ]
  },
  {
   "cell_type": "code",
   "execution_count": 588,
   "metadata": {},
   "outputs": [
    {
     "name": "stdout",
     "output_type": "stream",
     "text": [
      "glove-wiki-gigaword-100: 0.7067\n",
      "GoogleNews: 0.5984\n"
     ]
    }
   ],
   "source": [
    "print(\"glove-wiki-gigaword-100:\", avg_doc_sim(word_vectors,['sushi', 'shop'], ['japanese', 'restaurant']))\n",
    "print(\"GoogleNews:\", avg_doc_sim(model,['sushi', 'shop'], ['japanese', 'restaurant']))"
   ]
  },
  {
   "cell_type": "code",
   "execution_count": 804,
   "metadata": {
    "collapsed": true
   },
   "outputs": [],
   "source": [
    "import re\n",
    "\n",
    "def cleanhtml_(raw_html):\n",
    "    cleanr = re.compile('<.*?>')\n",
    "    print(raw_html.replace(u'\\xa0',u''))\n",
    "    return raw_html.replace(u'\\xa0',u'')\n",
    "    cleantext_ = re.sub(cleanr, '', clean_html)\n",
    "    #return (cleantext_)\n",
    "    return cleantext_"
   ]
  },
  {
   "cell_type": "code",
   "execution_count": 805,
   "metadata": {
    "collapsed": true
   },
   "outputs": [],
   "source": [
    "str1 = \"lives.\\xa0\""
   ]
  },
  {
   "cell_type": "code",
   "execution_count": 806,
   "metadata": {},
   "outputs": [
    {
     "name": "stdout",
     "output_type": "stream",
     "text": [
      "lives.\n"
     ]
    },
    {
     "data": {
      "text/plain": [
       "'lives.'"
      ]
     },
     "execution_count": 806,
     "metadata": {},
     "output_type": "execute_result"
    }
   ],
   "source": [
    "cleanhtml_(str1)"
   ]
  },
  {
   "cell_type": "code",
   "execution_count": 815,
   "metadata": {
    "collapsed": true
   },
   "outputs": [],
   "source": [
    "#Parsing targetTitle and targetParagraphs\n",
    "#print([raw_instance_train[0]['targetTitle']])\n",
    "c_target_title_ = tweet_Tokenizer(raw_instance_train[0]['targetTitle'])\n",
    "c_target_paragraph_ = []\n",
    "for n in raw_instance_train[0]['targetParagraphs']:\n",
    "    n = n.replace(u'\\xa0',u'').replace(':', ' ')\n",
    "    if(n != \"\"):\n",
    "        #n = [n]\n",
    "        c_target_paragraph_ += tweet_Tokenizer(n)"
   ]
  },
  {
   "cell_type": "code",
   "execution_count": 816,
   "metadata": {
    "scrolled": true
   },
   "outputs": [
    {
     "name": "stdout",
     "output_type": "stream",
     "text": [
      "['Apple', 'gives', 'back', 'gigabytes', 'iOS', '9', 'app', 'thinning', 'feature', 'will', 'finally', 'give', 'your', \"phone's\", 'storage', 'a', 'boost']\n",
      "------\n",
      "['Paying', 'for', 'a', '64GB', 'phone', 'only', 'to', 'discover', 'that', 'this', 'is', 'significantly', 'reduced', 'by', 'system', 'files', 'and', 'bloatware', 'is', 'the', 'bane', 'of', 'many', 'smartphone', \"owner's\", 'lives', 'And', 'the', 'issue', 'became', 'so', 'serious', 'earlier', 'this', 'year', 'that', 'some', 'Apple', 'users', 'even', 'sued', 'the', 'company', 'over', 'it', 'But', 'with', 'the', 'launch', 'of', 'iOS', '9', 'Apple', 'is', 'hoping', 'to', 'address', 'storage', 'concerns', 'by', 'introducing', 'a', 'feature', 'known', 'as', 'app', 'thinning', 'It', 'has', 'been', 'explained', 'on', 'the', 'watchOS', 'Developer', 'Library', 'site', 'and', 'is', 'aimed', 'at', 'developers', 'looking', 'to', 'optimise', 'their', 'apps', 'to', 'work', 'on', 'iOS', 'and', 'the', 'watchOS', 'It', 'ensures', 'apps', 'use', 'the', 'lowest', 'amount', 'of', 'storage', 'space', 'on', 'a', 'device', 'by', 'only', 'downloading', 'the', 'parts', 'it', 'needs', 'run', 'on', 'the', 'particular', 'handset', 'it', 'is', 'being', 'installed', 'onto', 'It', 'slices', 'the', 'app', 'into', 'app', 'variants', 'that', 'only', 'need', 'to', 'access', 'the', 'specific', 'files', 'on', 'that', 'specific', 'handset', 'XperiaBlog', 'recently', 'spotted', 'that', 'the', '8GB', 'version', 'of', \"Sony's\", 'mid-range', 'M4', 'Aqua', 'has', 'just', '1.26', 'GB', 'of', 'space', 'for', 'users', 'This', 'means', 'that', 'firmware', 'pre-installed', 'apps', 'and', 'Android', 'software', 'take', 'up', 'a', 'staggering', '84.25', 'per', 'cent', 'Sony', 'does', 'let', 'users', 'increase', 'storage', 'space', 'using', 'a', 'microSD', 'card', 'but', 'as', 'XperiaBlog', 'explained', 'Sony', 'should', 'never', 'have', 'launched', 'an', '8GB', 'version', 'of', 'the', 'Xperia', 'M4', 'Aqua', 'If', 'you', 'are', 'thinking', 'about', 'purchasing', 'this', 'model', 'be', 'aware', 'of', 'what', 'you', 'are', 'buying', 'into', 'Previously', 'apps', 'would', 'need', 'to', 'be', 'able', 'to', 'run', 'on', 'all', 'handsets', 'and', 'account', 'for', 'the', 'varying', 'files', 'chipsets', 'and', 'power', 'so', 'contained', 'sections', 'that', \"weren't\", 'always', 'relevant', 'to', 'the', 'phone', 'it', 'was', 'being', 'installed', 'on', 'This', 'made', 'them', 'larger', 'than', 'they', 'needed', 'to', 'be', 'Under', 'the', 'new', 'plans', 'when', 'a', 'phone', 'is', 'downloaded', 'from', 'the', 'App', 'Store', 'the', 'app', 'recognises', 'which', 'phone', 'it', 'is', 'being', 'installed', 'onto', 'and', 'only', 'pulls', 'in', 'the', 'files', 'and', 'code', 'it', 'needs', 'to', 'work', 'on', 'that', 'particular', 'device', 'For', 'iOS', 'sliced', 'apps', 'are', 'supported', 'on', 'the', 'latest', 'iTunes', 'and', 'on', 'devices', 'running', 'iOS', '9.0', 'and', 'later', 'In', 'all', 'other', 'cases', 'the', 'App', 'Store', 'will', 'deliver', 'the', 'previous', 'universal', 'apps', 'to', 'customers', 'The', 'guidelines', 'also', 'discuss', 'so-called', 'on-demand', 'resources', 'This', 'allows', 'developers', 'to', 'omit', 'features', 'from', 'an', 'app', 'until', 'they', 'are', 'opened', 'or', 'requested', 'by', 'the', 'user', 'The', 'App', 'Store', 'hosts', 'these', 'resources', 'on', 'Apple', 'servers', 'and', 'manages', 'the', 'downloads', 'for', 'the', 'developer', 'and', 'user', 'This', 'will', 'also', 'increase', 'how', 'quickly', 'an', 'app', 'downloads', 'An', 'example', 'given', 'by', 'Apple', 'is', 'a', 'game', 'app', 'that', 'may', 'divide', 'resources', 'into', 'game', 'levels', 'and', 'request', 'the', 'next', 'level', 'of', 'resources', 'only', 'when', 'the', 'app', 'anticipates', 'the', 'user', 'has', 'completed', 'the', 'previous', 'level', 'Similarly', 'the', 'app', 'can', 'request', 'In-App', 'Purchase', 'resources', 'only', 'when', 'the', 'user', 'buys', 'a', 'corresponding', 'in-app', 'purchase', 'Apple', 'explained', 'the', 'operating', 'system', 'will', 'then', 'purge', 'on-demand', 'resources', 'when', 'they', 'are', 'no', 'longer', 'needed', 'and', 'disk', 'space', 'is', 'low', 'removing', 'them', 'until', 'they', 'are', 'needed', 'again', 'And', 'the', 'whole', 'iOS', '9', 'software', 'has', 'been', 'designed', 'to', 'be', 'thinner', 'during', 'updates', 'namely', 'from', '4.6', 'GB', 'to', '1.3', 'GB', 'to', 'free', 'up', 'space', 'This', 'app', 'thinning', 'applies', 'to', 'third-party', 'apps', 'created', 'by', 'developers', 'Apple', \"doesn't\", 'say', 'if', 'it', 'will', 'apply', 'to', 'the', 'apps', 'Apple', 'pre-installed', 'on', 'devices', 'such', 'as', 'Stocks', 'Weather', 'and', 'Safari', 'but', 'it', 'is', 'likely', 'that', 'it', 'will', 'in', 'order', 'to', 'make', 'iOS', '9', 'smaller', 'As', 'an', 'example', 'of', 'storage', 'space', 'on', 'Apple', 'devices', 'a', '64GB', 'Apple', 'iPhone', '6', 'is', 'typically', 'left', 'with', '56GB', 'of', 'free', 'space', 'after', 'pre-installed', 'apps', 'system', 'files', 'and', 'software', 'is', 'included', 'A', 'drop', 'of', '8GB', 'leaving', '87.5', 'per', 'cent', 'of', 'storage', 'free', 'By', 'comparison', \"Samsung's\", '64GB', 'S6', 'Edge', 'has', '53.42', 'GB', 'of', 'available', 'space', 'and', 'of', 'this', '9GB', 'is', 'listed', 'as', 'system', 'memory', 'Although', 'this', 'is', 'a', 'total', 'drop', 'of', 'almost', '11GB', 'it', 'equates', 'to', '83', 'per', 'cent', 'of', 'space', 'free', 'By', 'comparison', 'on', 'a', '32GB', 'S6', 'MailOnline', 'found', '23.86', 'GB', 'of', 'space', 'was', 'available', 'with', '6.62', 'GB', 'attributed', 'to', 'system', 'memory', 'This', 'is', 'a', 'drop', 'of', 'just', 'over', '8GB', 'and', 'leaves', '75', 'per', 'cent', 'free', 'Samsung', 'said', 'it', 'too', 'had', 'addressed', 'complaints', 'about', 'bloatware', 'and', 'storage', 'space', 'with', 'its', 'S6', 'range', 'Previous', 'handsets', 'including', 'the', 'Samsung', 'Galaxy', 'S4', 'and', 'Apple', 'iPhone', '5C', 'typically', 'ranged', 'from', 'between', '54', 'per', 'cent', 'and', '79', 'per', 'cent', 'of', 'free', 'space', 'Businessman', 'killed', 'his', 'best', 'friend', 'when', 'he', 'crashed', 'jet-powered', 'dinghy', 'into', 'his', '£', '1million', 'yacht', 'while', 'showing', 'off', 'as', 'his', 'wife', 'filmed', 'them']\n"
     ]
    }
   ],
   "source": [
    "#review parsing result for targetTitle and targetParagraphs\n",
    "print(c_target_title_) #target title\n",
    "print(\"------\")\n",
    "print(c_target_paragraph_) # target paragraph"
   ]
  },
  {
   "cell_type": "code",
   "execution_count": 817,
   "metadata": {
    "scrolled": true
   },
   "outputs": [
    {
     "ename": "KeyError",
     "evalue": "\"word 'phone's' not in vocabulary\"",
     "output_type": "error",
     "traceback": [
      "\u001b[0;31m---------------------------------------------------------------------------\u001b[0m",
      "\u001b[0;31mKeyError\u001b[0m                                  Traceback (most recent call last)",
      "\u001b[0;32m<ipython-input-817-af663dd0fc24>\u001b[0m in \u001b[0;36m<module>\u001b[0;34m()\u001b[0m\n\u001b[1;32m      1\u001b[0m \u001b[0;31m#measure title and body's similarity\u001b[0m\u001b[0;34m\u001b[0m\u001b[0;34m\u001b[0m\u001b[0m\n\u001b[1;32m      2\u001b[0m \u001b[0;31m#error \"word 'watchos' not in vocabulary\"\u001b[0m\u001b[0;34m\u001b[0m\u001b[0;34m\u001b[0m\u001b[0m\n\u001b[0;32m----> 3\u001b[0;31m \u001b[0mavg_doc_sim\u001b[0m\u001b[0;34m(\u001b[0m\u001b[0mmodel\u001b[0m\u001b[0;34m,\u001b[0m\u001b[0mc_target_title_\u001b[0m\u001b[0;34m,\u001b[0m \u001b[0mc_target_paragraph_\u001b[0m\u001b[0;34m)\u001b[0m\u001b[0;34m\u001b[0m\u001b[0m\n\u001b[0m",
      "\u001b[0;32m<ipython-input-568-1e9bab263768>\u001b[0m in \u001b[0;36mavg_doc_sim\u001b[0;34m(word_vectors, title, body)\u001b[0m\n\u001b[1;32m      1\u001b[0m \u001b[0;32mdef\u001b[0m \u001b[0mavg_doc_sim\u001b[0m\u001b[0;34m(\u001b[0m\u001b[0mword_vectors\u001b[0m\u001b[0;34m,\u001b[0m \u001b[0mtitle\u001b[0m\u001b[0;34m,\u001b[0m \u001b[0mbody\u001b[0m\u001b[0;34m)\u001b[0m\u001b[0;34m:\u001b[0m\u001b[0;34m\u001b[0m\u001b[0m\n\u001b[0;32m----> 2\u001b[0;31m     \u001b[0msimilarity\u001b[0m \u001b[0;34m=\u001b[0m \u001b[0mword_vectors\u001b[0m\u001b[0;34m.\u001b[0m\u001b[0mn_similarity\u001b[0m\u001b[0;34m(\u001b[0m\u001b[0mtitle\u001b[0m\u001b[0;34m,\u001b[0m \u001b[0mbody\u001b[0m\u001b[0;34m)\u001b[0m\u001b[0;34m\u001b[0m\u001b[0m\n\u001b[0m\u001b[1;32m      3\u001b[0m     \u001b[0;32mreturn\u001b[0m \u001b[0;34m\"{:.4f}\"\u001b[0m\u001b[0;34m.\u001b[0m\u001b[0mformat\u001b[0m\u001b[0;34m(\u001b[0m\u001b[0msimilarity\u001b[0m\u001b[0;34m)\u001b[0m\u001b[0;34m\u001b[0m\u001b[0m\n",
      "\u001b[0;32m~/anaconda3/lib/python3.6/site-packages/gensim/models/keyedvectors.py\u001b[0m in \u001b[0;36mn_similarity\u001b[0;34m(self, ws1, ws2)\u001b[0m\n\u001b[1;32m   1010\u001b[0m         \u001b[0;32mif\u001b[0m \u001b[0;32mnot\u001b[0m\u001b[0;34m(\u001b[0m\u001b[0mlen\u001b[0m\u001b[0;34m(\u001b[0m\u001b[0mws1\u001b[0m\u001b[0;34m)\u001b[0m \u001b[0;32mand\u001b[0m \u001b[0mlen\u001b[0m\u001b[0;34m(\u001b[0m\u001b[0mws2\u001b[0m\u001b[0;34m)\u001b[0m\u001b[0;34m)\u001b[0m\u001b[0;34m:\u001b[0m\u001b[0;34m\u001b[0m\u001b[0m\n\u001b[1;32m   1011\u001b[0m             \u001b[0;32mraise\u001b[0m \u001b[0mZeroDivisionError\u001b[0m\u001b[0;34m(\u001b[0m\u001b[0;34m'At least one of the passed list is empty.'\u001b[0m\u001b[0;34m)\u001b[0m\u001b[0;34m\u001b[0m\u001b[0m\n\u001b[0;32m-> 1012\u001b[0;31m         \u001b[0mv1\u001b[0m \u001b[0;34m=\u001b[0m \u001b[0;34m[\u001b[0m\u001b[0mself\u001b[0m\u001b[0;34m[\u001b[0m\u001b[0mword\u001b[0m\u001b[0;34m]\u001b[0m \u001b[0;32mfor\u001b[0m \u001b[0mword\u001b[0m \u001b[0;32min\u001b[0m \u001b[0mws1\u001b[0m\u001b[0;34m]\u001b[0m\u001b[0;34m\u001b[0m\u001b[0m\n\u001b[0m\u001b[1;32m   1013\u001b[0m         \u001b[0mv2\u001b[0m \u001b[0;34m=\u001b[0m \u001b[0;34m[\u001b[0m\u001b[0mself\u001b[0m\u001b[0;34m[\u001b[0m\u001b[0mword\u001b[0m\u001b[0;34m]\u001b[0m \u001b[0;32mfor\u001b[0m \u001b[0mword\u001b[0m \u001b[0;32min\u001b[0m \u001b[0mws2\u001b[0m\u001b[0;34m]\u001b[0m\u001b[0;34m\u001b[0m\u001b[0m\n\u001b[1;32m   1014\u001b[0m         \u001b[0;32mreturn\u001b[0m \u001b[0mdot\u001b[0m\u001b[0;34m(\u001b[0m\u001b[0mmatutils\u001b[0m\u001b[0;34m.\u001b[0m\u001b[0munitvec\u001b[0m\u001b[0;34m(\u001b[0m\u001b[0marray\u001b[0m\u001b[0;34m(\u001b[0m\u001b[0mv1\u001b[0m\u001b[0;34m)\u001b[0m\u001b[0;34m.\u001b[0m\u001b[0mmean\u001b[0m\u001b[0;34m(\u001b[0m\u001b[0maxis\u001b[0m\u001b[0;34m=\u001b[0m\u001b[0;36m0\u001b[0m\u001b[0;34m)\u001b[0m\u001b[0;34m)\u001b[0m\u001b[0;34m,\u001b[0m \u001b[0mmatutils\u001b[0m\u001b[0;34m.\u001b[0m\u001b[0munitvec\u001b[0m\u001b[0;34m(\u001b[0m\u001b[0marray\u001b[0m\u001b[0;34m(\u001b[0m\u001b[0mv2\u001b[0m\u001b[0;34m)\u001b[0m\u001b[0;34m.\u001b[0m\u001b[0mmean\u001b[0m\u001b[0;34m(\u001b[0m\u001b[0maxis\u001b[0m\u001b[0;34m=\u001b[0m\u001b[0;36m0\u001b[0m\u001b[0;34m)\u001b[0m\u001b[0;34m)\u001b[0m\u001b[0;34m)\u001b[0m\u001b[0;34m\u001b[0m\u001b[0m\n",
      "\u001b[0;32m~/anaconda3/lib/python3.6/site-packages/gensim/models/keyedvectors.py\u001b[0m in \u001b[0;36m<listcomp>\u001b[0;34m(.0)\u001b[0m\n\u001b[1;32m   1010\u001b[0m         \u001b[0;32mif\u001b[0m \u001b[0;32mnot\u001b[0m\u001b[0;34m(\u001b[0m\u001b[0mlen\u001b[0m\u001b[0;34m(\u001b[0m\u001b[0mws1\u001b[0m\u001b[0;34m)\u001b[0m \u001b[0;32mand\u001b[0m \u001b[0mlen\u001b[0m\u001b[0;34m(\u001b[0m\u001b[0mws2\u001b[0m\u001b[0;34m)\u001b[0m\u001b[0;34m)\u001b[0m\u001b[0;34m:\u001b[0m\u001b[0;34m\u001b[0m\u001b[0m\n\u001b[1;32m   1011\u001b[0m             \u001b[0;32mraise\u001b[0m \u001b[0mZeroDivisionError\u001b[0m\u001b[0;34m(\u001b[0m\u001b[0;34m'At least one of the passed list is empty.'\u001b[0m\u001b[0;34m)\u001b[0m\u001b[0;34m\u001b[0m\u001b[0m\n\u001b[0;32m-> 1012\u001b[0;31m         \u001b[0mv1\u001b[0m \u001b[0;34m=\u001b[0m \u001b[0;34m[\u001b[0m\u001b[0mself\u001b[0m\u001b[0;34m[\u001b[0m\u001b[0mword\u001b[0m\u001b[0;34m]\u001b[0m \u001b[0;32mfor\u001b[0m \u001b[0mword\u001b[0m \u001b[0;32min\u001b[0m \u001b[0mws1\u001b[0m\u001b[0;34m]\u001b[0m\u001b[0;34m\u001b[0m\u001b[0m\n\u001b[0m\u001b[1;32m   1013\u001b[0m         \u001b[0mv2\u001b[0m \u001b[0;34m=\u001b[0m \u001b[0;34m[\u001b[0m\u001b[0mself\u001b[0m\u001b[0;34m[\u001b[0m\u001b[0mword\u001b[0m\u001b[0;34m]\u001b[0m \u001b[0;32mfor\u001b[0m \u001b[0mword\u001b[0m \u001b[0;32min\u001b[0m \u001b[0mws2\u001b[0m\u001b[0;34m]\u001b[0m\u001b[0;34m\u001b[0m\u001b[0m\n\u001b[1;32m   1014\u001b[0m         \u001b[0;32mreturn\u001b[0m \u001b[0mdot\u001b[0m\u001b[0;34m(\u001b[0m\u001b[0mmatutils\u001b[0m\u001b[0;34m.\u001b[0m\u001b[0munitvec\u001b[0m\u001b[0;34m(\u001b[0m\u001b[0marray\u001b[0m\u001b[0;34m(\u001b[0m\u001b[0mv1\u001b[0m\u001b[0;34m)\u001b[0m\u001b[0;34m.\u001b[0m\u001b[0mmean\u001b[0m\u001b[0;34m(\u001b[0m\u001b[0maxis\u001b[0m\u001b[0;34m=\u001b[0m\u001b[0;36m0\u001b[0m\u001b[0;34m)\u001b[0m\u001b[0;34m)\u001b[0m\u001b[0;34m,\u001b[0m \u001b[0mmatutils\u001b[0m\u001b[0;34m.\u001b[0m\u001b[0munitvec\u001b[0m\u001b[0;34m(\u001b[0m\u001b[0marray\u001b[0m\u001b[0;34m(\u001b[0m\u001b[0mv2\u001b[0m\u001b[0;34m)\u001b[0m\u001b[0;34m.\u001b[0m\u001b[0mmean\u001b[0m\u001b[0;34m(\u001b[0m\u001b[0maxis\u001b[0m\u001b[0;34m=\u001b[0m\u001b[0;36m0\u001b[0m\u001b[0;34m)\u001b[0m\u001b[0;34m)\u001b[0m\u001b[0;34m)\u001b[0m\u001b[0;34m\u001b[0m\u001b[0m\n",
      "\u001b[0;32m~/anaconda3/lib/python3.6/site-packages/gensim/models/keyedvectors.py\u001b[0m in \u001b[0;36m__getitem__\u001b[0;34m(self, entities)\u001b[0m\n\u001b[1;32m    335\u001b[0m         \u001b[0;32mif\u001b[0m \u001b[0misinstance\u001b[0m\u001b[0;34m(\u001b[0m\u001b[0mentities\u001b[0m\u001b[0;34m,\u001b[0m \u001b[0mstring_types\u001b[0m\u001b[0;34m)\u001b[0m\u001b[0;34m:\u001b[0m\u001b[0;34m\u001b[0m\u001b[0m\n\u001b[1;32m    336\u001b[0m             \u001b[0;31m# allow calls like trained_model['office'], as a shorthand for trained_model[['office']]\u001b[0m\u001b[0;34m\u001b[0m\u001b[0;34m\u001b[0m\u001b[0m\n\u001b[0;32m--> 337\u001b[0;31m             \u001b[0;32mreturn\u001b[0m \u001b[0mself\u001b[0m\u001b[0;34m.\u001b[0m\u001b[0mget_vector\u001b[0m\u001b[0;34m(\u001b[0m\u001b[0mentities\u001b[0m\u001b[0;34m)\u001b[0m\u001b[0;34m\u001b[0m\u001b[0m\n\u001b[0m\u001b[1;32m    338\u001b[0m \u001b[0;34m\u001b[0m\u001b[0m\n\u001b[1;32m    339\u001b[0m         \u001b[0;32mreturn\u001b[0m \u001b[0mvstack\u001b[0m\u001b[0;34m(\u001b[0m\u001b[0;34m[\u001b[0m\u001b[0mself\u001b[0m\u001b[0;34m.\u001b[0m\u001b[0mget_vector\u001b[0m\u001b[0;34m(\u001b[0m\u001b[0mentity\u001b[0m\u001b[0;34m)\u001b[0m \u001b[0;32mfor\u001b[0m \u001b[0mentity\u001b[0m \u001b[0;32min\u001b[0m \u001b[0mentities\u001b[0m\u001b[0;34m]\u001b[0m\u001b[0;34m)\u001b[0m\u001b[0;34m\u001b[0m\u001b[0m\n",
      "\u001b[0;32m~/anaconda3/lib/python3.6/site-packages/gensim/models/keyedvectors.py\u001b[0m in \u001b[0;36mget_vector\u001b[0;34m(self, word)\u001b[0m\n\u001b[1;32m    453\u001b[0m \u001b[0;34m\u001b[0m\u001b[0m\n\u001b[1;32m    454\u001b[0m     \u001b[0;32mdef\u001b[0m \u001b[0mget_vector\u001b[0m\u001b[0;34m(\u001b[0m\u001b[0mself\u001b[0m\u001b[0;34m,\u001b[0m \u001b[0mword\u001b[0m\u001b[0;34m)\u001b[0m\u001b[0;34m:\u001b[0m\u001b[0;34m\u001b[0m\u001b[0m\n\u001b[0;32m--> 455\u001b[0;31m         \u001b[0;32mreturn\u001b[0m \u001b[0mself\u001b[0m\u001b[0;34m.\u001b[0m\u001b[0mword_vec\u001b[0m\u001b[0;34m(\u001b[0m\u001b[0mword\u001b[0m\u001b[0;34m)\u001b[0m\u001b[0;34m\u001b[0m\u001b[0m\n\u001b[0m\u001b[1;32m    456\u001b[0m \u001b[0;34m\u001b[0m\u001b[0m\n\u001b[1;32m    457\u001b[0m     \u001b[0;32mdef\u001b[0m \u001b[0mwords_closer_than\u001b[0m\u001b[0;34m(\u001b[0m\u001b[0mself\u001b[0m\u001b[0;34m,\u001b[0m \u001b[0mw1\u001b[0m\u001b[0;34m,\u001b[0m \u001b[0mw2\u001b[0m\u001b[0;34m)\u001b[0m\u001b[0;34m:\u001b[0m\u001b[0;34m\u001b[0m\u001b[0m\n",
      "\u001b[0;32m~/anaconda3/lib/python3.6/site-packages/gensim/models/keyedvectors.py\u001b[0m in \u001b[0;36mword_vec\u001b[0;34m(self, word, use_norm)\u001b[0m\n\u001b[1;32m    450\u001b[0m             \u001b[0;32mreturn\u001b[0m \u001b[0mresult\u001b[0m\u001b[0;34m\u001b[0m\u001b[0m\n\u001b[1;32m    451\u001b[0m         \u001b[0;32melse\u001b[0m\u001b[0;34m:\u001b[0m\u001b[0;34m\u001b[0m\u001b[0m\n\u001b[0;32m--> 452\u001b[0;31m             \u001b[0;32mraise\u001b[0m \u001b[0mKeyError\u001b[0m\u001b[0;34m(\u001b[0m\u001b[0;34m\"word '%s' not in vocabulary\"\u001b[0m \u001b[0;34m%\u001b[0m \u001b[0mword\u001b[0m\u001b[0;34m)\u001b[0m\u001b[0;34m\u001b[0m\u001b[0m\n\u001b[0m\u001b[1;32m    453\u001b[0m \u001b[0;34m\u001b[0m\u001b[0m\n\u001b[1;32m    454\u001b[0m     \u001b[0;32mdef\u001b[0m \u001b[0mget_vector\u001b[0m\u001b[0;34m(\u001b[0m\u001b[0mself\u001b[0m\u001b[0;34m,\u001b[0m \u001b[0mword\u001b[0m\u001b[0;34m)\u001b[0m\u001b[0;34m:\u001b[0m\u001b[0;34m\u001b[0m\u001b[0m\n",
      "\u001b[0;31mKeyError\u001b[0m: \"word 'phone's' not in vocabulary\""
     ]
    }
   ],
   "source": [
    "#measure title and body's similarity\n",
    "#error \"word 'watchos' not in vocabulary\"\n",
    "avg_doc_sim(model,c_target_title_, c_target_paragraph_)"
   ]
  },
  {
   "cell_type": "code",
   "execution_count": 337,
   "metadata": {
    "scrolled": true
   },
   "outputs": [
    {
     "data": {
      "text/plain": [
       "[\"'App thinning' will be supported on Apple's iOS 9 and later models. It ensures apps use the lowest amount of storage space on a device by only downloading the parts it needs to run on individual handsets. It 'slices' the app into 'app variants' that only need to access the specific files on that specific device\",\n",
       " \"'App thinning' will be supported on Apple's iOS 9 and later models. It ensures apps use the lowest amount of storage space on a device by only downloading the parts it needs to run on individual handsets. It 'slices' the app into 'app variants' that only need to access the specific files on that specific device\",\n",
       " \"The guidelines also discuss so-called 'on-demand resources.' This allows developers to omit features from an app until they are opened or requested by the user. The App Store hosts these resources on Apple servers and manages the downloads for the developer and user.\\xa0This will also increase how quickly an app downloads\",\n",
       " \"The guidelines also discuss so-called 'on-demand resources.' This allows developers to omit features from an app until they are opened or requested by the user. The App Store hosts these resources on Apple servers and manages the downloads for the developer and user.\\xa0This will also increase how quickly an app downloads\",\n",
       " \"Apple said it will then 'purge on-demand resources when they are no longer needed and disk space is low' (Apple's storage menu is pictured)\",\n",
       " \"Apple said it will then 'purge on-demand resources when they are no longer needed and disk space is low' (Apple's storage menu is pictured)\",\n",
       " 'A 64GB Apple iPhone 6 is typically left with 56GB of free space after pre-installed apps, system files and software is included. A drop of 8GB, leaving 87.5 % of storage free.\\xa0Previous handsets, including the Samsung Galaxy S4 and Apple iPhone 5C typically ranged from between 54% and 79% of free space (illustrated)',\n",
       " 'A 64GB Apple iPhone 6 is typically left with 56GB of free space after pre-installed apps, system files and software is included. A drop of 8GB, leaving 87.5 % of storage free.\\xa0Previous handsets, including the Samsung Galaxy S4 and Apple iPhone 5C typically ranged from between 54% and 79% of free space (illustrated)',\n",
       " \"Earlier this year, a pair of disgruntled Apple users filed a lawsuit in Miami accusing the tech giant of 'concealing, omitting and failing to disclose' that on 16GB versions of iPhones, more than 20% of the advertised space isn't available. This graph reveals the capacity available and unavailable to the user\",\n",
       " \"Earlier this year, a pair of disgruntled Apple users filed a lawsuit in Miami accusing the tech giant of 'concealing, omitting and failing to disclose' that on 16GB versions of iPhones, more than 20% of the advertised space isn't available. This graph reveals the capacity available and unavailable to the user\"]"
      ]
     },
     "execution_count": 337,
     "metadata": {},
     "output_type": "execute_result"
    }
   ],
   "source": [
    "#targetCaptions\n",
    "targetCaptions_documents = raw_instance_train[0]['targetCaptions']\n",
    "targetCaptions_documents"
   ]
  },
  {
   "cell_type": "code",
   "execution_count": 336,
   "metadata": {
    "collapsed": true
   },
   "outputs": [],
   "source": [
    "# find common words and tokenize\n",
    "def pre_word_count(documents):\n",
    "    stoplist = set('for a of the and to in'.split())\n",
    "    texts = [[word for word in document.lower().split() if word not in stoplist]\n",
    "             for document in documents]\n",
    "    # remove words that appear only once\n",
    "    from collections import defaultdict\n",
    "    frequency = defaultdict(int)\n",
    "    for text in texts:\n",
    "        for token in text:\n",
    "            frequency[token] += 1\n",
    "    texts = [[token for token in text if frequency[token] > 1]\n",
    "             for text in texts]\n",
    "    return texts"
   ]
  },
  {
   "cell_type": "code",
   "execution_count": 210,
   "metadata": {
    "collapsed": true
   },
   "outputs": [],
   "source": [
    "#count each word in a document\n",
    "def word_Count(parsed_document):\n",
    "    dictionary = corpora.Dictionary(parsed_document)\n",
    "    return dictionary.token2id"
   ]
  },
  {
   "cell_type": "code",
   "execution_count": 338,
   "metadata": {},
   "outputs": [
    {
     "data": {
      "text/plain": [
       "[[\"'app\",\n",
       "  \"thinning'\",\n",
       "  'will',\n",
       "  'be',\n",
       "  'supported',\n",
       "  'on',\n",
       "  \"apple's\",\n",
       "  'ios',\n",
       "  '9',\n",
       "  'later',\n",
       "  'models.',\n",
       "  'it',\n",
       "  'ensures',\n",
       "  'apps',\n",
       "  'use',\n",
       "  'lowest',\n",
       "  'amount',\n",
       "  'storage',\n",
       "  'space',\n",
       "  'on',\n",
       "  'device',\n",
       "  'by',\n",
       "  'only',\n",
       "  'downloading',\n",
       "  'parts',\n",
       "  'it',\n",
       "  'needs',\n",
       "  'run',\n",
       "  'on',\n",
       "  'individual',\n",
       "  'handsets.',\n",
       "  'it',\n",
       "  \"'slices'\",\n",
       "  'app',\n",
       "  'into',\n",
       "  \"'app\",\n",
       "  \"variants'\",\n",
       "  'that',\n",
       "  'only',\n",
       "  'need',\n",
       "  'access',\n",
       "  'specific',\n",
       "  'files',\n",
       "  'on',\n",
       "  'that',\n",
       "  'specific',\n",
       "  'device'],\n",
       " [\"'app\",\n",
       "  \"thinning'\",\n",
       "  'will',\n",
       "  'be',\n",
       "  'supported',\n",
       "  'on',\n",
       "  \"apple's\",\n",
       "  'ios',\n",
       "  '9',\n",
       "  'later',\n",
       "  'models.',\n",
       "  'it',\n",
       "  'ensures',\n",
       "  'apps',\n",
       "  'use',\n",
       "  'lowest',\n",
       "  'amount',\n",
       "  'storage',\n",
       "  'space',\n",
       "  'on',\n",
       "  'device',\n",
       "  'by',\n",
       "  'only',\n",
       "  'downloading',\n",
       "  'parts',\n",
       "  'it',\n",
       "  'needs',\n",
       "  'run',\n",
       "  'on',\n",
       "  'individual',\n",
       "  'handsets.',\n",
       "  'it',\n",
       "  \"'slices'\",\n",
       "  'app',\n",
       "  'into',\n",
       "  \"'app\",\n",
       "  \"variants'\",\n",
       "  'that',\n",
       "  'only',\n",
       "  'need',\n",
       "  'access',\n",
       "  'specific',\n",
       "  'files',\n",
       "  'on',\n",
       "  'that',\n",
       "  'specific',\n",
       "  'device'],\n",
       " ['guidelines',\n",
       "  'also',\n",
       "  'discuss',\n",
       "  'so-called',\n",
       "  \"'on-demand\",\n",
       "  \"resources.'\",\n",
       "  'this',\n",
       "  'allows',\n",
       "  'developers',\n",
       "  'omit',\n",
       "  'features',\n",
       "  'from',\n",
       "  'an',\n",
       "  'app',\n",
       "  'until',\n",
       "  'they',\n",
       "  'are',\n",
       "  'opened',\n",
       "  'or',\n",
       "  'requested',\n",
       "  'by',\n",
       "  'user.',\n",
       "  'app',\n",
       "  'store',\n",
       "  'hosts',\n",
       "  'these',\n",
       "  'resources',\n",
       "  'on',\n",
       "  'apple',\n",
       "  'servers',\n",
       "  'manages',\n",
       "  'downloads',\n",
       "  'developer',\n",
       "  'user.',\n",
       "  'this',\n",
       "  'will',\n",
       "  'also',\n",
       "  'increase',\n",
       "  'how',\n",
       "  'quickly',\n",
       "  'an',\n",
       "  'app',\n",
       "  'downloads'],\n",
       " ['guidelines',\n",
       "  'also',\n",
       "  'discuss',\n",
       "  'so-called',\n",
       "  \"'on-demand\",\n",
       "  \"resources.'\",\n",
       "  'this',\n",
       "  'allows',\n",
       "  'developers',\n",
       "  'omit',\n",
       "  'features',\n",
       "  'from',\n",
       "  'an',\n",
       "  'app',\n",
       "  'until',\n",
       "  'they',\n",
       "  'are',\n",
       "  'opened',\n",
       "  'or',\n",
       "  'requested',\n",
       "  'by',\n",
       "  'user.',\n",
       "  'app',\n",
       "  'store',\n",
       "  'hosts',\n",
       "  'these',\n",
       "  'resources',\n",
       "  'on',\n",
       "  'apple',\n",
       "  'servers',\n",
       "  'manages',\n",
       "  'downloads',\n",
       "  'developer',\n",
       "  'user.',\n",
       "  'this',\n",
       "  'will',\n",
       "  'also',\n",
       "  'increase',\n",
       "  'how',\n",
       "  'quickly',\n",
       "  'an',\n",
       "  'app',\n",
       "  'downloads'],\n",
       " ['apple',\n",
       "  'said',\n",
       "  'it',\n",
       "  'will',\n",
       "  'then',\n",
       "  \"'purge\",\n",
       "  'on-demand',\n",
       "  'resources',\n",
       "  'when',\n",
       "  'they',\n",
       "  'are',\n",
       "  'no',\n",
       "  'longer',\n",
       "  'needed',\n",
       "  'disk',\n",
       "  'space',\n",
       "  'is',\n",
       "  \"low'\",\n",
       "  \"(apple's\",\n",
       "  'storage',\n",
       "  'menu',\n",
       "  'is',\n",
       "  'pictured)'],\n",
       " ['apple',\n",
       "  'said',\n",
       "  'it',\n",
       "  'will',\n",
       "  'then',\n",
       "  \"'purge\",\n",
       "  'on-demand',\n",
       "  'resources',\n",
       "  'when',\n",
       "  'they',\n",
       "  'are',\n",
       "  'no',\n",
       "  'longer',\n",
       "  'needed',\n",
       "  'disk',\n",
       "  'space',\n",
       "  'is',\n",
       "  \"low'\",\n",
       "  \"(apple's\",\n",
       "  'storage',\n",
       "  'menu',\n",
       "  'is',\n",
       "  'pictured)'],\n",
       " ['64gb',\n",
       "  'apple',\n",
       "  'iphone',\n",
       "  '6',\n",
       "  'is',\n",
       "  'typically',\n",
       "  'left',\n",
       "  'with',\n",
       "  '56gb',\n",
       "  'free',\n",
       "  'space',\n",
       "  'after',\n",
       "  'pre-installed',\n",
       "  'apps,',\n",
       "  'system',\n",
       "  'files',\n",
       "  'software',\n",
       "  'is',\n",
       "  'included.',\n",
       "  'drop',\n",
       "  '8gb,',\n",
       "  'leaving',\n",
       "  '87.5',\n",
       "  '%',\n",
       "  'storage',\n",
       "  'free.',\n",
       "  'previous',\n",
       "  'handsets,',\n",
       "  'including',\n",
       "  'samsung',\n",
       "  'galaxy',\n",
       "  's4',\n",
       "  'apple',\n",
       "  'iphone',\n",
       "  '5c',\n",
       "  'typically',\n",
       "  'ranged',\n",
       "  'from',\n",
       "  'between',\n",
       "  '54%',\n",
       "  '79%',\n",
       "  'free',\n",
       "  'space',\n",
       "  '(illustrated)'],\n",
       " ['64gb',\n",
       "  'apple',\n",
       "  'iphone',\n",
       "  '6',\n",
       "  'is',\n",
       "  'typically',\n",
       "  'left',\n",
       "  'with',\n",
       "  '56gb',\n",
       "  'free',\n",
       "  'space',\n",
       "  'after',\n",
       "  'pre-installed',\n",
       "  'apps,',\n",
       "  'system',\n",
       "  'files',\n",
       "  'software',\n",
       "  'is',\n",
       "  'included.',\n",
       "  'drop',\n",
       "  '8gb,',\n",
       "  'leaving',\n",
       "  '87.5',\n",
       "  '%',\n",
       "  'storage',\n",
       "  'free.',\n",
       "  'previous',\n",
       "  'handsets,',\n",
       "  'including',\n",
       "  'samsung',\n",
       "  'galaxy',\n",
       "  's4',\n",
       "  'apple',\n",
       "  'iphone',\n",
       "  '5c',\n",
       "  'typically',\n",
       "  'ranged',\n",
       "  'from',\n",
       "  'between',\n",
       "  '54%',\n",
       "  '79%',\n",
       "  'free',\n",
       "  'space',\n",
       "  '(illustrated)'],\n",
       " ['earlier',\n",
       "  'this',\n",
       "  'year,',\n",
       "  'pair',\n",
       "  'disgruntled',\n",
       "  'apple',\n",
       "  'users',\n",
       "  'filed',\n",
       "  'lawsuit',\n",
       "  'miami',\n",
       "  'accusing',\n",
       "  'tech',\n",
       "  'giant',\n",
       "  \"'concealing,\",\n",
       "  'omitting',\n",
       "  'failing',\n",
       "  \"disclose'\",\n",
       "  'that',\n",
       "  'on',\n",
       "  '16gb',\n",
       "  'versions',\n",
       "  'iphones,',\n",
       "  'more',\n",
       "  'than',\n",
       "  '20%',\n",
       "  'advertised',\n",
       "  'space',\n",
       "  \"isn't\",\n",
       "  'available.',\n",
       "  'this',\n",
       "  'graph',\n",
       "  'reveals',\n",
       "  'capacity',\n",
       "  'available',\n",
       "  'unavailable',\n",
       "  'user'],\n",
       " ['earlier',\n",
       "  'this',\n",
       "  'year,',\n",
       "  'pair',\n",
       "  'disgruntled',\n",
       "  'apple',\n",
       "  'users',\n",
       "  'filed',\n",
       "  'lawsuit',\n",
       "  'miami',\n",
       "  'accusing',\n",
       "  'tech',\n",
       "  'giant',\n",
       "  \"'concealing,\",\n",
       "  'omitting',\n",
       "  'failing',\n",
       "  \"disclose'\",\n",
       "  'that',\n",
       "  'on',\n",
       "  '16gb',\n",
       "  'versions',\n",
       "  'iphones,',\n",
       "  'more',\n",
       "  'than',\n",
       "  '20%',\n",
       "  'advertised',\n",
       "  'space',\n",
       "  \"isn't\",\n",
       "  'available.',\n",
       "  'this',\n",
       "  'graph',\n",
       "  'reveals',\n",
       "  'capacity',\n",
       "  'available',\n",
       "  'unavailable',\n",
       "  'user']]"
      ]
     },
     "execution_count": 338,
     "metadata": {},
     "output_type": "execute_result"
    }
   ],
   "source": [
    "#finding common words\n",
    "targetCaptions_parsed_document = pre_word_count(targetCaptions_documents)\n",
    "targetCaptions_parsed_document"
   ]
  },
  {
   "cell_type": "code",
   "execution_count": 339,
   "metadata": {
    "scrolled": true
   },
   "outputs": [
    {
     "data": {
      "text/plain": [
       "{'%': 83,\n",
       " \"'app\": 0,\n",
       " \"'concealing,\": 115,\n",
       " \"'on-demand\": 37,\n",
       " \"'purge\": 69,\n",
       " \"'slices'\": 1,\n",
       " \"(apple's\": 70,\n",
       " '(illustrated)': 84,\n",
       " '16gb': 116,\n",
       " '20%': 117,\n",
       " '54%': 85,\n",
       " '56gb': 86,\n",
       " '5c': 87,\n",
       " '6': 88,\n",
       " '64gb': 89,\n",
       " '79%': 90,\n",
       " '87.5': 91,\n",
       " '8gb,': 92,\n",
       " '9': 2,\n",
       " 'access': 3,\n",
       " 'accusing': 118,\n",
       " 'advertised': 119,\n",
       " 'after': 93,\n",
       " 'allows': 38,\n",
       " 'also': 39,\n",
       " 'amount': 4,\n",
       " 'an': 40,\n",
       " 'app': 5,\n",
       " 'apple': 41,\n",
       " \"apple's\": 6,\n",
       " 'apps': 7,\n",
       " 'apps,': 94,\n",
       " 'are': 42,\n",
       " 'available': 120,\n",
       " 'available.': 121,\n",
       " 'be': 8,\n",
       " 'between': 95,\n",
       " 'by': 9,\n",
       " 'capacity': 122,\n",
       " 'developer': 43,\n",
       " 'developers': 44,\n",
       " 'device': 10,\n",
       " \"disclose'\": 123,\n",
       " 'discuss': 45,\n",
       " 'disgruntled': 124,\n",
       " 'disk': 71,\n",
       " 'downloading': 11,\n",
       " 'downloads': 46,\n",
       " 'drop': 96,\n",
       " 'earlier': 125,\n",
       " 'ensures': 12,\n",
       " 'failing': 126,\n",
       " 'features': 47,\n",
       " 'filed': 127,\n",
       " 'files': 13,\n",
       " 'free': 97,\n",
       " 'free.': 98,\n",
       " 'from': 48,\n",
       " 'galaxy': 99,\n",
       " 'giant': 128,\n",
       " 'graph': 129,\n",
       " 'guidelines': 49,\n",
       " 'handsets,': 100,\n",
       " 'handsets.': 14,\n",
       " 'hosts': 50,\n",
       " 'how': 51,\n",
       " 'included.': 101,\n",
       " 'including': 102,\n",
       " 'increase': 52,\n",
       " 'individual': 15,\n",
       " 'into': 16,\n",
       " 'ios': 17,\n",
       " 'iphone': 103,\n",
       " 'iphones,': 130,\n",
       " 'is': 72,\n",
       " \"isn't\": 131,\n",
       " 'it': 18,\n",
       " 'later': 19,\n",
       " 'lawsuit': 132,\n",
       " 'leaving': 104,\n",
       " 'left': 105,\n",
       " 'longer': 73,\n",
       " \"low'\": 74,\n",
       " 'lowest': 20,\n",
       " 'manages': 53,\n",
       " 'menu': 75,\n",
       " 'miami': 133,\n",
       " 'models.': 21,\n",
       " 'more': 134,\n",
       " 'need': 22,\n",
       " 'needed': 76,\n",
       " 'needs': 23,\n",
       " 'no': 77,\n",
       " 'omit': 54,\n",
       " 'omitting': 135,\n",
       " 'on': 24,\n",
       " 'on-demand': 78,\n",
       " 'only': 25,\n",
       " 'opened': 55,\n",
       " 'or': 56,\n",
       " 'pair': 136,\n",
       " 'parts': 26,\n",
       " 'pictured)': 79,\n",
       " 'pre-installed': 106,\n",
       " 'previous': 107,\n",
       " 'quickly': 57,\n",
       " 'ranged': 108,\n",
       " 'requested': 58,\n",
       " 'resources': 59,\n",
       " \"resources.'\": 60,\n",
       " 'reveals': 137,\n",
       " 'run': 27,\n",
       " 's4': 109,\n",
       " 'said': 80,\n",
       " 'samsung': 110,\n",
       " 'servers': 61,\n",
       " 'so-called': 62,\n",
       " 'software': 111,\n",
       " 'space': 28,\n",
       " 'specific': 29,\n",
       " 'storage': 30,\n",
       " 'store': 63,\n",
       " 'supported': 31,\n",
       " 'system': 112,\n",
       " 'tech': 138,\n",
       " 'than': 139,\n",
       " 'that': 32,\n",
       " 'then': 81,\n",
       " 'these': 64,\n",
       " 'they': 65,\n",
       " \"thinning'\": 33,\n",
       " 'this': 66,\n",
       " 'typically': 113,\n",
       " 'unavailable': 140,\n",
       " 'until': 67,\n",
       " 'use': 34,\n",
       " 'user': 141,\n",
       " 'user.': 68,\n",
       " 'users': 142,\n",
       " \"variants'\": 35,\n",
       " 'versions': 143,\n",
       " 'when': 82,\n",
       " 'will': 36,\n",
       " 'with': 114,\n",
       " 'year,': 144}"
      ]
     },
     "execution_count": 339,
     "metadata": {},
     "output_type": "execute_result"
    }
   ],
   "source": [
    "#word count\n",
    "word_Count(targetCaptions_parsed_document)"
   ]
  },
  {
   "cell_type": "code",
   "execution_count": null,
   "metadata": {
    "collapsed": true
   },
   "outputs": [],
   "source": [
    "#pos_tag"
   ]
  },
  {
   "cell_type": "code",
   "execution_count": 204,
   "metadata": {},
   "outputs": [
    {
     "data": {
      "text/plain": [
       "[('And', 'CC'),\n",
       " ('now', 'RB'),\n",
       " ('for', 'IN'),\n",
       " ('something', 'NN'),\n",
       " ('completely', 'RB'),\n",
       " ('different', 'JJ')]"
      ]
     },
     "execution_count": 204,
     "metadata": {},
     "output_type": "execute_result"
    }
   ],
   "source": [
    "text = word_tokenize(\"And now for something completely different\")\n",
    "nltk.pos_tag(text)"
   ]
  },
  {
   "cell_type": "code",
   "execution_count": 399,
   "metadata": {
    "collapsed": true
   },
   "outputs": [],
   "source": [
    "#clickbait_train, emoji\n",
    "def pos_1gram(data, title):\n",
    "    postag_words = word_tokenize(data.get(title)[0])\n",
    "    return nltk.pos_tag(postag_words)\n",
    "\n",
    "pos_tag_list = []\n",
    "#for single_data in clickbait_train:\n",
    "    #print(pos_2gram(single_data, \"postText\"))"
   ]
  },
  {
   "cell_type": "code",
   "execution_count": 401,
   "metadata": {},
   "outputs": [
    {
     "data": {
      "text/plain": [
       "[('U.S.', 'NNP'),\n",
       " ('Soccer', 'NNP'),\n",
       " ('should', 'MD'),\n",
       " ('start', 'VB'),\n",
       " ('answering', 'VBG'),\n",
       " ('tough', 'JJ'),\n",
       " ('questions', 'NNS'),\n",
       " ('about', 'IN'),\n",
       " ('Hope', 'NNP'),\n",
       " ('Solo', 'NNP'),\n",
       " (',', ','),\n",
       " ('@', 'NNP'),\n",
       " ('eric_adelson', 'NN'),\n",
       " ('writes', 'NNS'),\n",
       " ('.', '.')]"
      ]
     },
     "execution_count": 401,
     "metadata": {},
     "output_type": "execute_result"
    }
   ],
   "source": [
    "pos_1gram(clickbait_train[0], \"postText\")"
   ]
  },
  {
   "cell_type": "code",
   "execution_count": 566,
   "metadata": {
    "collapsed": true
   },
   "outputs": [],
   "source": [
    "#calculate tags in a data\n",
    "def cal_pos_1grams_tag(data, title, tag):\n",
    "    i = 0\n",
    "    pos_list = []\n",
    "    postag_words = word_tokenize(data.get(title)[0])\n",
    "    pos_list = nltk.pos_tag(postag_words)\n",
    "    for tags in pos_list:\n",
    "        print(\"tags: \", tags)\n",
    "        if tags[1] == tag:\n",
    "            i+=1\n",
    "    return i   "
   ]
  },
  {
   "cell_type": "code",
   "execution_count": 565,
   "metadata": {},
   "outputs": [
    {
     "name": "stdout",
     "output_type": "stream",
     "text": [
      "tags:  ('U.S.', 'NNP')\n",
      "tags:  ('Soccer', 'NNP')\n",
      "tags:  ('should', 'MD')\n",
      "tags:  ('start', 'VB')\n",
      "tags:  ('answering', 'VBG')\n",
      "tags:  ('tough', 'JJ')\n",
      "tags:  ('questions', 'NNS')\n",
      "tags:  ('about', 'IN')\n",
      "tags:  ('Hope', 'NNP')\n",
      "tags:  ('Solo', 'NNP')\n",
      "tags:  (',', ',')\n",
      "tags:  ('@', 'NNP')\n",
      "tags:  ('eric_adelson', 'NN')\n",
      "tags:  ('writes', 'NNS')\n",
      "tags:  ('.', '.')\n"
     ]
    },
    {
     "data": {
      "text/plain": [
       "5"
      ]
     },
     "execution_count": 565,
     "metadata": {},
     "output_type": "execute_result"
    }
   ],
   "source": [
    "cal_pos_1grams_tag(clickbait_train[0], \"postText\", \"NNP\")"
   ]
  },
  {
   "cell_type": "code",
   "execution_count": 561,
   "metadata": {
    "collapsed": true
   },
   "outputs": [],
   "source": [
    "#yutarochan's code\n",
    "def pos_2gram(title, p1, p2):\n",
    "    pos_list = pos_tag(word_tokenize(title))\n",
    "    #print(\"-1: \", pos_list[:-1])\n",
    "    #print(\"1: \", pos_list[1:])\n",
    "    #print(\"zip: \", list(zip(pos_list[:-1], pos_list[1:])))\n",
    "    #print(list(zip(pos_list[:-1], pos_list[1:]))[0][1])\n",
    "    #print(list(zip(pos_list[:-1], pos_list[1:]))[1][1])\n",
    "    return sum(map(lambda x: x[0][1] == p1 and x[1][1] == p2, zip(pos_list[:-1], pos_list[1:])))"
   ]
  },
  {
   "cell_type": "code",
   "execution_count": 562,
   "metadata": {},
   "outputs": [
    {
     "data": {
      "text/plain": [
       "'U.S. Soccer should start answering tough questions about Hope Solo'"
      ]
     },
     "execution_count": 562,
     "metadata": {},
     "output_type": "execute_result"
    }
   ],
   "source": [
    "clickbait_train[0]['targetTitle']"
   ]
  },
  {
   "cell_type": "code",
   "execution_count": 563,
   "metadata": {},
   "outputs": [
    {
     "data": {
      "text/plain": [
       "2"
      ]
     },
     "execution_count": 563,
     "metadata": {},
     "output_type": "execute_result"
    }
   ],
   "source": [
    "pos_2gram(clickbait_train[0]['targetTitle'], 'NNP', 'NNP')"
   ]
  },
  {
   "cell_type": "code",
   "execution_count": 470,
   "metadata": {
    "collapsed": true
   },
   "outputs": [],
   "source": [
    "#revised pos_2grams\n",
    "def pos_2gram_sum(title, p1, p2):\n",
    "    pos_2g_num = 0\n",
    "    pos_list = pos_tag(word_tokenize(title))\n",
    "    pos_ziplist = zip(pos_list[:-1], pos_list[1:])\n",
    "    for pos_z in pos_ziplist:\n",
    "        if pos_z[0][1] == p1 and pos_z[1][1] == p2:\n",
    "            pos_2g_num += 1\n",
    "    return pos_2g_num"
   ]
  },
  {
   "cell_type": "code",
   "execution_count": 471,
   "metadata": {},
   "outputs": [
    {
     "data": {
      "text/plain": [
       "2"
      ]
     },
     "execution_count": 471,
     "metadata": {},
     "output_type": "execute_result"
    }
   ],
   "source": [
    "pos_2gram_sum(clickbait_train[0]['targetTitle'], 'NNP', 'NNP')"
   ]
  },
  {
   "cell_type": "code",
   "execution_count": 472,
   "metadata": {
    "collapsed": true
   },
   "outputs": [],
   "source": [
    "#check pos_2grams\n",
    "def pos_2gram_check(title, p1, p2):\n",
    "    pos_2gram_list = []\n",
    "    pos_list = pos_tag(word_tokenize(title))\n",
    "    pos_ziplist = zip(pos_list[:-1], pos_list[1:])\n",
    "    for pos_z in pos_ziplist:\n",
    "        if pos_z[0][1] == p1 and pos_z[1][1] == p2:\n",
    "            pos_2gram_list.append([pos_z[0], pos_z[1]])\n",
    "    return pos_2gram_list"
   ]
  },
  {
   "cell_type": "code",
   "execution_count": 473,
   "metadata": {},
   "outputs": [
    {
     "name": "stdout",
     "output_type": "stream",
     "text": [
      "[[('U.S.', 'NNP'), ('Soccer', 'NNP')], [('Hope', 'NNP'), ('Solo', 'NNP')]]\n"
     ]
    }
   ],
   "source": [
    "print(pos_2gram_check(clickbait_train[0]['targetTitle'], 'NNP', 'NNP'))"
   ]
  },
  {
   "cell_type": "code",
   "execution_count": 484,
   "metadata": {
    "collapsed": true
   },
   "outputs": [],
   "source": [
    "#revised pos_3grams\n",
    "def pos_3gram_sum(title, p1, p2, p3):\n",
    "    pos_3g_num = 0\n",
    "    pos_list = pos_tag(word_tokenize(title))\n",
    "    pos_ziplist = zip(pos_list[:-2], pos_list[1:-1], pos_list[2:])\n",
    "    for pos_z in pos_ziplist:\n",
    "        if pos_z[0][1] == p1 and pos_z[1][1] == p2 and pos_z[2][1] == p3:\n",
    "            pos_3g_num += 1\n",
    "    return pos_3g_num"
   ]
  },
  {
   "cell_type": "code",
   "execution_count": 493,
   "metadata": {},
   "outputs": [
    {
     "name": "stdout",
     "output_type": "stream",
     "text": [
      "0\n"
     ]
    }
   ],
   "source": [
    "print(pos_3gram_sum(clickbait_train[0]['targetTitle'], 'NNP', 'NNP', 'NNP'))"
   ]
  },
  {
   "cell_type": "code",
   "execution_count": 494,
   "metadata": {
    "collapsed": true
   },
   "outputs": [],
   "source": [
    "#check pos_3grams\n",
    "def pos_3gram_check(title, p1, p2, p3):\n",
    "    pos_3gram_list = []\n",
    "    pos_list = pos_tag(word_tokenize(title))\n",
    "    pos_ziplist = zip(pos_list[:-2], pos_list[1:-1], pos_list[2:])\n",
    "    for pos_z in pos_ziplist:\n",
    "        if pos_z[0][1] == p1 and pos_z[1][1] == p2 and pos_z[2][1] == p3:\n",
    "            pos_3gram_list.append([pos_z[0], pos_z[1],pos_z[2]])\n",
    "    return pos_3gram_list"
   ]
  },
  {
   "cell_type": "code",
   "execution_count": 495,
   "metadata": {},
   "outputs": [
    {
     "name": "stdout",
     "output_type": "stream",
     "text": [
      "[]\n"
     ]
    }
   ],
   "source": [
    "print(pos_3gram_check(clickbait_train[0]['targetTitle'], 'NNP', 'NNP', 'NNP'))"
   ]
  },
  {
   "cell_type": "code",
   "execution_count": 507,
   "metadata": {},
   "outputs": [
    {
     "name": "stdout",
     "output_type": "stream",
     "text": [
      "[nltk_data] Downloading package brown to /Users/EthanHsu/nltk_data...\n",
      "[nltk_data]   Package brown is already up-to-date!\n"
     ]
    },
    {
     "data": {
      "text/plain": [
       "[('The', 'AT'), ('Fulton', 'NP-TL'), ...]"
      ]
     },
     "execution_count": 507,
     "metadata": {},
     "output_type": "execute_result"
    }
   ],
   "source": [
    "#just downloading some nltk samples\n",
    "nltk.download('brown')\n",
    "nltk.corpus.brown.tagged_words(categories='news')"
   ]
  },
  {
   "cell_type": "code",
   "execution_count": 508,
   "metadata": {
    "collapsed": true
   },
   "outputs": [],
   "source": [
    "#just downloading some nltk samples\n",
    "nltk_list = list(nltk.corpus.brown.tagged_words(categories='news'))"
   ]
  },
  {
   "cell_type": "code",
   "execution_count": 552,
   "metadata": {
    "collapsed": true
   },
   "outputs": [],
   "source": [
    "target_para_list = []\n",
    "for n in clickbait_train[0]['targetParagraphs']:\n",
    "    target_para_ = doc_punc_parser(n)\n",
    "    #print(type(target_para_list))\n",
    "    #print(target_para_)\n",
    "    target_para_list = target_para_list + target_para_\n",
    "    #print(n)\n",
    "    #print(nltk.pos_tag(n))\n",
    "\n",
    "target_para_tags = nltk.pos_tag(target_para_list)"
   ]
  },
  {
   "cell_type": "code",
   "execution_count": 557,
   "metadata": {
    "collapsed": true
   },
   "outputs": [],
   "source": [
    "def count_tags (tags_list):\n",
    "    tag_fd = nltk.FreqDist(tag for (word, tag) in tags_list)\n",
    "    return (tag_fd.most_common())"
   ]
  },
  {
   "cell_type": "code",
   "execution_count": 558,
   "metadata": {},
   "outputs": [
    {
     "name": "stdout",
     "output_type": "stream",
     "text": [
      "[('NN', 115), ('NNP', 90), ('DT', 88), ('IN', 87), ('JJ', 44), ('VBZ', 41), ('RB', 40), ('.', 31), ('VB', 30), (',', 27), ('NNS', 24), ('TO', 23), ('CC', 20), ('POS', 16), ('VBD', 15), ('VBG', 14), ('PRP', 13), ('VBN', 12), ('PRP$', 10), (\"''\", 10), ('``', 9), ('VBP', 6), ('MD', 6), ('JJR', 5), ('WP', 4), ('WRB', 3), (':', 3), ('CD', 3), ('EX', 3), ('JJS', 2), ('(', 2), ('WDT', 2), (')', 2), ('RBR', 2), ('RBS', 1), ('RP', 1), ('NNPS', 1)]\n"
     ]
    }
   ],
   "source": [
    "print(count_tags(target_para_tags))"
   ]
  },
  {
   "cell_type": "code",
   "execution_count": 497,
   "metadata": {
    "collapsed": true
   },
   "outputs": [],
   "source": [
    "def findtags(tag_prefix, tagged_text):\n",
    "    cfd = nltk.ConditionalFreqDist((tag, word) for (word, tag) in tagged_text\n",
    "                                  if tag.startswith(tag_prefix))\n",
    "    return dict((tag, cfd[tag].most_common(5)) for tag in cfd.conditions())"
   ]
  },
  {
   "cell_type": "code",
   "execution_count": 560,
   "metadata": {},
   "outputs": [
    {
     "data": {
      "text/plain": [
       "{'NN': [('violence', 6),\n",
       "  ('lot', 4),\n",
       "  ('incident', 3),\n",
       "  ('explanation', 3),\n",
       "  ('game', 3)],\n",
       " 'NNP': [('Solo', 15),\n",
       "  ('U.S.', 11),\n",
       "  ('Soccer', 10),\n",
       "  ('Gulati', 5),\n",
       "  ('Hope', 4)],\n",
       " 'NNPS': [('Americans', 1)],\n",
       " 'NNS': [('women', 2),\n",
       "  ('questions', 2),\n",
       "  ('months', 2),\n",
       "  ('concerns', 1),\n",
       "  ('values', 1)]}"
      ]
     },
     "execution_count": 560,
     "metadata": {},
     "output_type": "execute_result"
    }
   ],
   "source": [
    "findtags(\"NN\",target_para_tags)"
   ]
  },
  {
   "cell_type": "code",
   "execution_count": null,
   "metadata": {
    "collapsed": true
   },
   "outputs": [],
   "source": []
  }
 ],
 "metadata": {
  "kernelspec": {
   "display_name": "Python 3",
   "language": "python",
   "name": "python3"
  },
  "language_info": {
   "codemirror_mode": {
    "name": "ipython",
    "version": 3
   },
   "file_extension": ".py",
   "mimetype": "text/x-python",
   "name": "python",
   "nbconvert_exporter": "python",
   "pygments_lexer": "ipython3",
   "version": "3.6.3"
  }
 },
 "nbformat": 4,
 "nbformat_minor": 2
}
