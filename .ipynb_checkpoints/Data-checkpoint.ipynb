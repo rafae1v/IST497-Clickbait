{
 "cells": [
  {
   "cell_type": "code",
   "execution_count": 1,
   "metadata": {},
   "outputs": [],
   "source": [
    "#EDA\n",
    "#jupyter notebook --NotebookApp.iopub_data_rate_limit=10000000\n",
    "#to download json_lines: python -m pip install json-lines\n",
    "import json_lines, json, copy"
   ]
  },
  {
   "cell_type": "code",
   "execution_count": 2,
   "metadata": {},
   "outputs": [
    {
     "name": "stdout",
     "output_type": "stream",
     "text": [
      "has\n",
      "has, too\n"
     ]
    }
   ],
   "source": [
    "#Remove '/project1' for the path\n",
    "\n",
    "from pathlib import Path\n",
    "\n",
    "raw_instance_filePath = Path(\"../project1/dataset/instances_train.jsonl\")\n",
    "if raw_instance_filePath.is_file():\n",
    "    print(\"has\")\n",
    "raw_instance_dir = Path(\"../project1/dataset\")\n",
    "\n",
    "#If you want to check the diretory by using .is_dir(), then you need to make another variable.\n",
    "if raw_instance_dir.is_dir():\n",
    "    print(\"has, too\")\n",
    "else:\n",
    "    print(\"none\")"
   ]
  },
  {
   "cell_type": "code",
   "execution_count": 3,
   "metadata": {},
   "outputs": [
    {
     "name": "stdout",
     "output_type": "stream",
     "text": [
      "has\n",
      "has, too\n"
     ]
    }
   ],
   "source": [
    "raw_truth_filePath = Path(\"../project1/dataset/truth_train.jsonl\")\n",
    "if raw_truth_filePath.is_file():\n",
    "    print(\"has\")\n",
    "raw_truth_dir = Path(\"../project1/dataset\")\n",
    "if raw_truth_dir.is_dir():\n",
    "    print(\"has, too\")\n",
    "else:\n",
    "    print(\"none\")"
   ]
  },
  {
   "cell_type": "code",
   "execution_count": 30,
   "metadata": {},
   "outputs": [
    {
     "data": {
      "text/plain": [
       "{'targetCaptions': ['Stocks Fall as Investors Watch Central Banks',\n",
       "  'Do Traders See Data Before Release? Markets Say Yes',\n",
       "  'Be Careful: Stock Volatility is Hiding, Not Hibernating',\n",
       "  'Singapore Bans Ex-Goldman Banker Linked to 1MDB From Working in Financial Sector',\n",
       "  'Demanding and Direct: HSBC’s New Chairman Mark Tucker',\n",
       "  'Saudi King’s Asia Expedition Enters Crucial Phase',\n",
       "  'Puerto Rico Board Approves Fiscal Road Map',\n",
       "  'CFPB, Justice Department Poised to Square Off in Court',\n",
       "  'Raphael Bostic to Lead Atlanta Fed',\n",
       "  'Blackstone Sells Part of Stake in NCR',\n",
       "  'Dartmouth College Appoints Alice Ruth as New Endowment Chief',\n",
       "  'Hedge-Fund Loses Big on Oil Bets',\n",
       "  'Buyout Firm Buys $800 Million of Assets From Itself',\n",
       "  'J.P. Morgan Moves Ahead With Plan to Drop Commissions in IRAs',\n",
       "  'Fed Signal Could Revive a Problem for China’s Central Bank',\n",
       "  'Why Apple and Pfizer Are Piling Into Taiwan’s Bond Market',\n",
       "  '[https://m.wsj.net/video/20170312/031017vinny/031017vinny_167x94.jpg]',\n",
       "  '[https://m.wsj.net/video/20170303/0307lotd_boca/0307lotd_boca_167x94.jpg]',\n",
       "  '[https://m.wsj.net/video/20170313/031317dutchelex/031317dutchelex_167x94.jpg]',\n",
       "  '[https://m.wsj.net/video/20170313/031317lina/031317lina_167x94.jpg]',\n",
       "  '[https://m.wsj.net/video/20170313/031317scotref/031317scotref_167x94.jpg]',\n",
       "  'You’re Not Busy, You’re Just Rude',\n",
       "  'Credit Reports to Exclude Certain Negative Data, Boosting FICO Scores',\n",
       "  'CIA Contractors Questioned About WikiLeaks Dump',\n",
       "  'Your Pension Check May Soon Be Coming From an Insurance Company',\n",
       "  'Intel Makes Big Bet on Self-Driving Tech in Mobileye Deal',\n",
       "  '[https://m.wsj.net/video/20170312/031017vinny/031017vinny_167x94.jpg]',\n",
       "  '[https://m.wsj.net/video/20170303/0307lotd_boca/0307lotd_boca_167x94.jpg]',\n",
       "  '[https://m.wsj.net/video/20170313/031317dutchelex/031317dutchelex_167x94.jpg]',\n",
       "  '[https://m.wsj.net/video/20170313/031317lina/031317lina_167x94.jpg]',\n",
       "  '[https://m.wsj.net/video/20170313/031317scotref/031317scotref_167x94.jpg]',\n",
       "  'You’re Not Busy, You’re Just Rude',\n",
       "  'Credit Reports to Exclude Certain Negative Data, Boosting FICO Scores',\n",
       "  'CIA Contractors Questioned About WikiLeaks Dump',\n",
       "  'Your Pension Check May Soon Be Coming From an Insurance Company',\n",
       "  'Intel Makes Big Bet on Self-Driving Tech in Mobileye Deal'],\n",
       " 'targetDescription': 'Global investors have yanked $9.3 billion from stocks in developing countries in the week to Wednesday, the most since the depths of the 2008 global financial crisis.',\n",
       " 'postText': ['RT @kenbrown12: Emerging market investors are doing their best Monty Pythons--\"Run away, run away\"'],\n",
       " 'postTimestamp': 'Fri Jun 12 09:52:05 +0000 2015',\n",
       " 'postMedia': ['media/609297109095972864.jpg'],\n",
       " 'targetParagraphs': ['Emerging markets are out of favor.',\n",
       "  'Global investors have yanked $9.3 billion from stocks in developing countries in the week to Wednesday, the most since the depths of the global financial crisis in 2008. Asia has been particularly vulnerable with $7.9 billion pulled out of the region’s equity markets, the most in almost 15 years, according to data provider EPFR Global.',\n",
       "  'Financial markets in emerging markets have been grinding...'],\n",
       " 'targetTitle': 'Emerging Markets Suffer Largest Outflow in Seven Years',\n",
       " 'id': '1',\n",
       " 'targetKeywords': 'emerging market,emerging markets,em flows,em inflow,em outflow,equity markets,money,forex markets,commodity,financial market news'}"
      ]
     },
     "execution_count": 30,
     "metadata": {},
     "output_type": "execute_result"
    }
   ],
   "source": [
    "#open with json - raw_instance_train\n",
    "\n",
    "raw_instance_train=[]\n",
    "with open('../project1/dataset/instances_train.jsonl','rb') as raw_instance_file: #opening file with binary(rb) mode.\n",
    "    for x in raw_instance_file:\n",
    "        raw_instance_train.append(json.loads(x))\n",
    "raw_instance_train[1]\n"
   ]
  },
  {
   "cell_type": "code",
   "execution_count": 29,
   "metadata": {},
   "outputs": [
    {
     "data": {
      "text/plain": [
       "{'truthMedian': 0.33333334,\n",
       " 'truthMean': 0.2,\n",
       " 'truthMode': 0.33333334,\n",
       " 'truthClass': 'no-clickbait',\n",
       " 'truthJudgments': [0.33333334, 0.0, 0.33333334, 0.33333334, 0.0],\n",
       " 'id': '7'}"
      ]
     },
     "execution_count": 29,
     "metadata": {},
     "output_type": "execute_result"
    }
   ],
   "source": [
    "#open with json - raw_truth_train\n",
    "\n",
    "raw_truth_train=[]\n",
    "with open('../project1/dataset/truth_train.jsonl','rb') as raw_truth_file: #opening file with binary(rb) mode.\n",
    "    for x in raw_truth_file:\n",
    "        raw_truth_train.append(json.loads(x))\n",
    "raw_truth_train[7]\n"
   ]
  },
  {
   "cell_type": "code",
   "execution_count": 26,
   "metadata": {},
   "outputs": [
    {
     "name": "stdout",
     "output_type": "stream",
     "text": [
      "<class 'list'>\n",
      "<class 'dict'>\n",
      "17581\n",
      "Check Dict. Indexes for instance_train: dict_keys(['targetCaptions', 'targetDescription', 'postText', 'postTimestamp', 'postMedia', 'targetParagraphs', 'targetTitle', 'id', 'targetKeywords'])\n",
      "Check Dict. Indexes for truth_train: dict_keys(['truthMedian', 'truthMean', 'truthMode', 'truthClass', 'truthJudgments', 'id'])\n"
     ]
    }
   ],
   "source": [
    "#check the properties\n",
    "print(type(raw_instance_train))    #type for whole data: list\n",
    "print(type(raw_instance_train[0]))  #type for each element of the liast: dict\n",
    "print(len(raw_instance_train))\n",
    "print('Check Dict. Indexes for instance_train: ' + str(raw_instance_train[0].keys()))\n",
    "print('Check Dict. Indexes for truth_train: ' + str(raw_truth_train[0].keys()))"
   ]
  },
  {
   "cell_type": "code",
   "execution_count": null,
   "metadata": {},
   "outputs": [],
   "source": [
    "# raw_instance_train = [json.loads(line) for line in open(\"../project1/dataset/instances_train.jsonl\")]\n",
    "# raw_truth_train = [json.loads(line) for line in open(\"../project1/dataset/truth_train.jsonl\")]"
   ]
  },
  {
   "cell_type": "code",
   "execution_count": 10,
   "metadata": {},
   "outputs": [],
   "source": [
    "#To Cleaning data. Later...\n",
    "\n",
    "# import re\n",
    "\n",
    "# def cleanhtml(raw_html):\n",
    "#   cleanr = re.compile('<.*?>')\n",
    "#   cleantext = re.sub(cleanr, '', raw_html)\n",
    "#   return cleantext"
   ]
  },
  {
   "cell_type": "code",
   "execution_count": null,
   "metadata": {},
   "outputs": [],
   "source": [
    "# str = \"Marta is perhaps the one player in the tournament closest to being a one-woman team in terms of how she can direct a game. With everything she has achieved and those five consecutive World Player of the Year awards up to 2010, it's hard to believe Marta's still only 29. She might be just past her peak in terms of strength and speed, but Marta's soccer intelligence is so profound that she still has a lot to teach the young pretenders -- and of course she still has unfinished business with the World Cup. -- <b><i>Graham Parker</b></i> <br><br><b>The following players also received votes:</b> Camille Abily, France; Nadine Angerer, Germany; Shirley Cruz, Costa Rica; Nilla Fischer, Sweden; Laura Georges, France; Lena Goessling, Germany; Lauren Holiday, United States; Simone Laudehr, Germany; Melanie Leupolz, Germany; Carli Lloyd, United States; Vivianne Miedema, Netherlands; Anja Mittag, Germany; Aya Miyama, Japan; Yuki Ogimi, Japan; Asisat Oshoala, Nigeria; Wendie Renard, France; Celia Sasic, Germany; Becky Sauerbrunn, United States; Homare Sawa, Japan\""
   ]
  },
  {
   "cell_type": "code",
   "execution_count": 9,
   "metadata": {},
   "outputs": [
    {
     "ename": "NameError",
     "evalue": "name 'cleanhtml' is not defined",
     "output_type": "error",
     "traceback": [
      "\u001b[1;31m---------------------------------------------------------------------------\u001b[0m",
      "\u001b[1;31mNameError\u001b[0m                                 Traceback (most recent call last)",
      "\u001b[1;32m<ipython-input-9-74028c9cf69b>\u001b[0m in \u001b[0;36m<module>\u001b[1;34m()\u001b[0m\n\u001b[1;32m----> 1\u001b[1;33m \u001b[0mcleanhtml\u001b[0m\u001b[1;33m(\u001b[0m\u001b[0mstr\u001b[0m\u001b[1;33m)\u001b[0m\u001b[1;33m\u001b[0m\u001b[0m\n\u001b[0m\u001b[0;32m      2\u001b[0m \u001b[0mstr\u001b[0m\u001b[1;33m\u001b[0m\u001b[0m\n",
      "\u001b[1;31mNameError\u001b[0m: name 'cleanhtml' is not defined"
     ]
    }
   ],
   "source": [
    "# cleanhtml(str)"
   ]
  },
  {
   "cell_type": "code",
   "execution_count": null,
   "metadata": {},
   "outputs": [],
   "source": [
    "# import nltk\n",
    "# tknzr = TweetTokenizer(strip_handles=True, reduce_len=True)\n",
    "# s1 = '@remy: This is waaaaayyyy too much for you!!!!!!'\n",
    "# tknzr.tokenize(s1)\n",
    "# #[':', 'This', 'is', 'waaayyy', 'too', 'much', 'for', 'you', '!', '!', '!']"
   ]
  },
  {
   "cell_type": "code",
   "execution_count": null,
   "metadata": {},
   "outputs": [],
   "source": [
    "# #yutarochan code\n",
    "# data_train_X_bait = filter(lambda y: y is not '', map(lambda x: x[0] if x[1]['truthClass'] == 'clickbait' else '', zip(data_train_X, data_train_Y)))"
   ]
  },
  {
   "cell_type": "code",
   "execution_count": null,
   "metadata": {},
   "outputs": [],
   "source": [
    "# #separate into two list (clickbait/ non_clickbait)\n",
    "# clickbait_train = []\n",
    "# non_clickbait_train = []\n",
    "# for x in range(0, len(raw_instance_train)):\n",
    "#     if raw_truth_train[x]['truthClass'] == 'clickbait':\n",
    "#         temp_dict = copy.deepcopy(raw_instance_train[x])\n",
    "#         temp_dict.update(raw_truth_train[x])\n",
    "#         clickbait_train.append(temp_dict)\n",
    "#     else:\n",
    "#         non_clickbait_train.append(raw_instance_train[x])"
   ]
  },
  {
   "cell_type": "code",
   "execution_count": null,
   "metadata": {},
   "outputs": [],
   "source": [
    "# #clickbait_train\n",
    "# clickbait_train[0]"
   ]
  },
  {
   "cell_type": "code",
   "execution_count": null,
   "metadata": {},
   "outputs": [],
   "source": [
    "# #non_clickbait_train\n",
    "# non_clickbait_train[0]"
   ]
  },
  {
   "cell_type": "code",
   "execution_count": null,
   "metadata": {},
   "outputs": [],
   "source": []
  }
 ],
 "metadata": {
  "kernelspec": {
   "display_name": "Python 3",
   "language": "python",
   "name": "python3"
  },
  "language_info": {
   "codemirror_mode": {
    "name": "ipython",
    "version": 3
   },
   "file_extension": ".py",
   "mimetype": "text/x-python",
   "name": "python",
   "nbconvert_exporter": "python",
   "pygments_lexer": "ipython3",
   "version": "3.6.5"
  }
 },
 "nbformat": 4,
 "nbformat_minor": 2
}
